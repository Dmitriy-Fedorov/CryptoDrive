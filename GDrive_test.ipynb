{
 "cells": [
  {
   "cell_type": "code",
   "execution_count": 1,
   "metadata": {},
   "outputs": [
    {
     "name": "stdout",
     "output_type": "stream",
     "text": [
      "Your browser has been opened to visit:\n",
      "\n",
      "    https://accounts.google.com/o/oauth2/auth?client_id=1041234379035-ua0eveg1b0rb811hfmnj9n0m348a632h.apps.googleusercontent.com&redirect_uri=http%3A%2F%2Flocalhost%3A8080%2F&scope=https%3A%2F%2Fwww.googleapis.com%2Fauth%2Fdrive&access_type=offline&response_type=code\n",
      "\n",
      "Authentication successful.\n"
     ]
    }
   ],
   "source": [
    "from mypydrive.auth import GoogleAuth\n",
    "from mypydrive.drive import GoogleDrive\n",
    "from pprint import pprint\n",
    "import pyAesCrypt\n",
    "import io\n",
    "import os\n",
    "\n",
    "gauth = GoogleAuth()\n",
    "gauth.LocalWebserverAuth() # client_secrets.json need to be in the same directory as the script\n",
    "drive = GoogleDrive(gauth)"
   ]
  },
  {
   "cell_type": "markdown",
   "metadata": {},
   "source": [
    "https://console.cloud.google.com/apis/credentials?authuser=1&folder=&organizationId=&project=quickstart-1579349870305"
   ]
  },
  {
   "cell_type": "code",
   "execution_count": 2,
   "metadata": {},
   "outputs": [
    {
     "name": "stdout",
     "output_type": "stream",
     "text": [
      "Title: py_backup, ID: 1YJkqN-qtRHXnL4GvT3icGyl05_dcYTE6, mime: application/vnd.google-apps.folder\n",
      "Title: test.jpg.ciph, ID: 14NCUe27rLpinRWTg_nbw75raCvqoMXHa, mime: application/octet-stream\n",
      "Title: ctest.ciph, ID: 15P9bSCfd7bC8rZaTTxWu8AnALRBOcrTP, mime: application/octet-stream\n",
      "Title: KMS_Tools.zip, ID: 11jlfTYrjc2aanZlul6S9PP6QGOvgeAkg, mime: application/zip\n",
      "Title: other, ID: 15UZpLHZ-koagoj_T7RDYStcpKNXFcC5h, mime: application/vnd.google-apps.folder\n",
      "Title: Backup, ID: 1prgjfxfDBJOL_FxhDekqEk7Z1lXoEGGO, mime: application/vnd.google-apps.folder\n",
      "Title: orbi, ID: 1Qxre8vhr4qIsP2Sw2Qo8SM8SAzU9XQjm, mime: application/vnd.google-apps.folder\n",
      "Title: Share, ID: 1d5WSWmw8yJ-q4YwGq8MgeuMUM50NFXZP, mime: application/vnd.google-apps.folder\n"
     ]
    }
   ],
   "source": [
    "# View all folders and file in your Google Drive\n",
    "fileList = drive.ListFile({'q': \"'root' in parents and trashed=false\"}).GetList()\n",
    "for file in fileList:\n",
    "    print('Title: %s, ID: %s, mime: %s' % (file['title'], file['id'], file['mimeType']))\n",
    "    # Get the folder ID that you want\n",
    "    if(file['title'] == \"To Share\"):\n",
    "        fileID = file['id']"
   ]
  },
  {
   "cell_type": "code",
   "execution_count": null,
   "metadata": {},
   "outputs": [],
   "source": [
    "# Create GoogleDriveFile instance with title 'Hello.txt'.\n",
    "file1 = drive.CreateFile()\n",
    "# file1.SetContentFile('test.jpg')\n",
    "file1.SetContentString(b'qweradf')\n",
    "file1.Upload() # Upload the file."
   ]
  },
  {
   "cell_type": "code",
   "execution_count": null,
   "metadata": {},
   "outputs": [],
   "source": [
    "# file1.SetContentString(img.dencode())\n",
    "file1 = drive.CreateFile()\n",
    "file1.SetContentBinary(open(\"test.jpg\", \"rb\"), \"ani.jpg\")\n",
    "file1.Upload() # Upload the file."
   ]
  },
  {
   "cell_type": "code",
   "execution_count": null,
   "metadata": {},
   "outputs": [],
   "source": [
    "def SetContentBinary(self, data, filename):\n",
    "    \"\"\"Set content of this file from a file.\n",
    "    Opens the file specified by this method.\n",
    "    Will be read, uploaded, and closed by Upload() method.\n",
    "    Sets metadata 'title' and 'mimeType' automatically if not specified.\n",
    "    :param filename: name of the file to be uploaded.\n",
    "    :type filename: str.\n",
    "    \"\"\"\n",
    "    self.content = data\n",
    "    if self.get('title') is None:\n",
    "        self['title'] = filename\n",
    "    if self.get('mimeType') is None:\n",
    "        self['mimeType'] = mimetypes.guess_type(filename)[0]\n",
    "\n",
    "def GetContentBinary(self, filename, mimetype=None, remove_bom=False):\n",
    "    \"\"\"Save content of this file as a local file Dimon.\n",
    "\n",
    "    :param filename: name of the file to write to.\n",
    "    :type filename: str\n",
    "    :param mimetype: mimeType of the file.\n",
    "    :type mimetype: str\n",
    "    :param remove_bom: Whether to remove the byte order marking.\n",
    "    :type remove_bom: bool\n",
    "    :raises: ApiRequestError, FileNotUploadedError, FileNotDownloadableError\n",
    "    \"\"\"\n",
    "    if self.content is None or \\\n",
    "                    type(self.content) is not io.BytesIO or \\\n",
    "                    self.has_bom == remove_bom:\n",
    "        self.FetchContent(mimetype, remove_bom)\n",
    "    return self.content.getvalue()"
   ]
  },
  {
   "cell_type": "markdown",
   "metadata": {},
   "source": [
    "### Test encription IO"
   ]
  },
  {
   "cell_type": "code",
   "execution_count": null,
   "metadata": {},
   "outputs": [],
   "source": [
    "import pyAesCrypt\n",
    "import io\n",
    "\n",
    "bufferSize = 64 * 1024\n",
    "password = \"foopassword\"\n",
    "\n",
    "# binary data to be encrypted\n",
    "pbdata = b\"This is binary plaintext\"\n",
    "\n",
    "# input plaintext binary stream\n",
    "fIn = io.BytesIO(pbdata)\n",
    "\n",
    "# initialize ciphertext binary stream\n",
    "fCiph = io.BytesIO()\n",
    "\n",
    "# initialize decrypted binary stream\n",
    "fDec = io.BytesIO()\n",
    "\n",
    "# encrypt stream\n",
    "pyAesCrypt.encryptStream(fIn, fCiph, password, bufferSize)\n",
    "\n",
    "# print encrypted data\n",
    "print(\"This is the ciphertext:\\n\" + str(fCiph.getvalue()) +  f\" {len(str(fCiph.getvalue()))}\")\n",
    "\n",
    "# get ciphertext length\n",
    "ctlen = len(fCiph.getvalue())\n",
    "\n",
    "# go back to the start of the ciphertext stream\n",
    "fCiph.seek(0)\n",
    "\n",
    "# decrypt stream\n",
    "pyAesCrypt.decryptStream(fCiph, fDec, password, bufferSize, ctlen)\n",
    "\n",
    "# print decrypted data\n",
    "print(\"Decrypted data:\\n\" + str(fDec.getvalue()))"
   ]
  },
  {
   "cell_type": "code",
   "execution_count": null,
   "metadata": {},
   "outputs": [],
   "source": [
    "len(b\"AES\\x02\\x00\\x00\\x1bCREATED_BY\\x00pyAesCrypt 0.4.3\") + 1024"
   ]
  },
  {
   "cell_type": "code",
   "execution_count": null,
   "metadata": {},
   "outputs": [],
   "source": [
    "file1 = drive.CreateFile()\n",
    "file1.SetContentBinary(fCiph, \"ctest.ciph\")\n",
    "file1.Upload() # Upload the file."
   ]
  },
  {
   "cell_type": "code",
   "execution_count": null,
   "metadata": {},
   "outputs": [],
   "source": [
    "# decrypt stream\n",
    "fCiphFile = open(\"ctest.ciph\", \"rb\")\n",
    "pyAesCrypt.decryptStream(fCiphFile, fDec, password, bufferSize, ctlen)\n",
    "\n",
    "# print decrypted data\n",
    "print(\"Decrypted data:\\n\" + str(fDec.getvalue()))"
   ]
  },
  {
   "cell_type": "code",
   "execution_count": null,
   "metadata": {},
   "outputs": [],
   "source": [
    "# old \n",
    "def encript_and_upload(fname, bufferSize = 64 * 1024, password = \"foopassword\"):\n",
    "    fIn = open(fname, \"rb\")\n",
    "    fCiph = io.BytesIO()\n",
    "    pyAesCrypt.encryptStream(fIn, fCiph, password, bufferSize)\n",
    "    \n",
    "    file1 = drive.CreateFile()\n",
    "    file1.SetContentBinary(fCiph, f\"{fname}.ciph\")\n",
    "    file1.Upload() # Upload the file.\n",
    "    \n",
    "    fIn.close()\n",
    "    return fCiph\n",
    "\n",
    "efile = encript_and_upload(\"test.jpg\")\n",
    "print(len(str(efile.getvalue())))\n",
    "len(str(open(\"test.jpg\", \"rb\").read()))"
   ]
  },
  {
   "cell_type": "code",
   "execution_count": null,
   "metadata": {},
   "outputs": [],
   "source": [
    "def decript_and_save(fname, bufferSize = 64 * 1024, password = \"foopassword\"):\n",
    "    pyAesCrypt.decryptFile(fname, fname.replace(\".ciph\", \"\"), password, bufferSize)\n",
    "\n",
    "\n",
    "\n",
    "\"1M5j2NCzg-o-iq2r6JakvEeo0Fwh6GxG-\"\n",
    "decript_stream_and_save('asd.txt', \"1M5j2NCzg-o-iq2r6JakvEeo0Fwh6GxG-\")\n",
    "\n",
    "# dfile = drive.CreateFile({'id': \"1M5j2NCzg-o-iq2r6JakvEeo0Fwh6GxG-\"})\n",
    "# fCiph = dfile.GetContentBinary(\"asd\")\n",
    "# print(fCiph)\n",
    "# decript_and_save(\"test2.jpg.ciph\")"
   ]
  },
  {
   "cell_type": "code",
   "execution_count": null,
   "metadata": {},
   "outputs": [],
   "source": [
    "len(fCiph)"
   ]
  },
  {
   "cell_type": "markdown",
   "metadata": {},
   "source": [
    "### Useful functions"
   ]
  },
  {
   "cell_type": "code",
   "execution_count": 3,
   "metadata": {},
   "outputs": [],
   "source": [
    "def driveListFolder(parent):\n",
    "    filelist=[]\n",
    "    file_list = drive.ListFile({'q': f\"'{parent}' in parents and trashed=false\"}).GetList()\n",
    "    for f in file_list:\n",
    "        if f['mimeType']=='application/vnd.google-apps.folder': # if folder\n",
    "            filelist.append({\"id\": f['id'],\n",
    "                             \"isfolder\": True,\n",
    "                             \"title\": f['title'],\n",
    "                             \"list\": driveListFolder(f['id'])\n",
    "                            })\n",
    "        else:\n",
    "            filelist.append({\"id\": f[\"id\"],\n",
    "                             \"title\": f['title'], \n",
    "                             \"isfolder\": False,\n",
    "#                              \"title1\": f['alternateLink']\n",
    "                            })\n",
    "    return filelist\n",
    "\n",
    "def localListFolder(parent, level=0, verbose=False,\n",
    "                   ignore=['.git', \".ipynb_checkpoints\", \"__pycache__\"]):\n",
    "    cwd = os.getcwd()  # restore cwd after recursion is finished\n",
    "    os.chdir(parent) \n",
    "    indent = '    '\n",
    "    folder_dict={\"isfolder\": True, \n",
    "                 \"title\": parent,\n",
    "                 \"children\": []}\n",
    "    file_list = [asd for asd in os.listdir(\".\") if asd not in ignore]\n",
    "    for f in file_list:\n",
    "        if os.path.isdir(f): # if folder\n",
    "            if verbose: print(f\"{indent*level}{parent}: folder {f}\")\n",
    "            folder_dict['children'].append(localListFolder(f, level=level+1, verbose=verbose))\n",
    "        else:\n",
    "            if verbose: print(f\"{indent*level}{parent}: file   {f}\")\n",
    "            folder_dict['children'].append({\"isfolder\": False, \n",
    "                                            \"title\": f})\n",
    "\n",
    "    os.chdir(cwd)\n",
    "    return folder_dict\n",
    "\n",
    "# pprint(localListFolder('.'))\n",
    "# dlist = driveListFolder(asd.root_id)\n",
    "# pprint(dlist)\n",
    "# os.getcwd()"
   ]
  },
  {
   "cell_type": "code",
   "execution_count": 4,
   "metadata": {},
   "outputs": [],
   "source": [
    "# dlist = driveListFolder(asd.root_id)\n",
    "\n",
    "def driveList2localDict(dlist, id, parent, level=0, verbose=True, indent = \"|---\"):\n",
    "    folder_dict={\"isfolder\": True, \n",
    "                 \"id\": id,\n",
    "                 \"title\": parent,\n",
    "                 \"children\": []}\n",
    "    for f in dlist:\n",
    "        if f[\"isfolder\"]:\n",
    "            if verbose: print(f\"{indent*level}{parent}: FOLDER {f['title']}\")\n",
    "            folder_dict['children'].append(driveList2localDict(f['list'], f['id'], f['title'], level+1, verbose, indent))\n",
    "        else:\n",
    "            if verbose: print(f\"{indent*level}{parent}: FILE   {f['title']}\")\n",
    "            folder_dict['children'].append({\"isfolder\": False, \n",
    "                                            \"id\": f[\"id\"],\n",
    "                                            \"title\": f['title']})\n",
    "    return folder_dict\n",
    "            \n",
    "# pprint(driveList2localDict(dlist, \"Asd\", \"py_backup\", verbose=False))"
   ]
  },
  {
   "cell_type": "code",
   "execution_count": 5,
   "metadata": {},
   "outputs": [],
   "source": [
    "def encript_and_upload(fname, parent_id, bufferSize = 64 * 1024, password = \"foopassword\"):\n",
    "    fIn = open(fname, \"rb\")\n",
    "    fCiph = io.BytesIO()\n",
    "    pyAesCrypt.encryptStream(fIn, fCiph, password, bufferSize)\n",
    "    \n",
    "    file = drive.CreateFile({'title': fname, \n",
    "                             'parents':[{'id': parent_id}]\n",
    "                             })\n",
    "    file.SetContentBinary(fCiph)\n",
    "    file.Upload() # Upload the file.\n",
    "    \n",
    "    fIn.close()\n",
    "    return file['id']\n",
    "\n",
    "def decript_stream_and_save(drive_file_id, bufferSize = 64 * 1024, password = \"foopassword\"):\n",
    "    fDec = io.BytesIO()\n",
    "    dfile = drive.CreateFile({'id': drive_file_id})\n",
    "    fCiph = io.BytesIO(dfile.GetContentBinary())\n",
    "    pyAesCrypt.decryptStream(fCiph, fDec, password, bufferSize, len(fCiph.getvalue()))\n",
    "    with open(dfile['title'], 'wb') as f:\n",
    "        f.write(fDec.getvalue())"
   ]
  },
  {
   "cell_type": "code",
   "execution_count": 6,
   "metadata": {},
   "outputs": [],
   "source": [
    "def mkdir(folder_name):\n",
    "    try: \n",
    "        os.mkdir(folder_name)\n",
    "    except FileExistsError:\n",
    "        pass"
   ]
  },
  {
   "cell_type": "markdown",
   "metadata": {},
   "source": [
    "### Drive folders"
   ]
  },
  {
   "cell_type": "code",
   "execution_count": 7,
   "metadata": {},
   "outputs": [
    {
     "name": "stdout",
     "output_type": "stream",
     "text": [
      "> root: FOLDER pyAesCrypt \t\t 15yXQqX35rt8RG9z2ZjyAqaSBFv3g0OGu\n",
      "> pyAesCrypt: FILE __init__.py \t\t 1VzrPjr7F8naNOsRbGVbXfs8GlhB9Cpra\n",
      "> pyAesCrypt: FILE test_crypto.py \t\t 10b7s0qP3iBoWoz4ljdsawzPDiHuaDIC9\n",
      "> pyAesCrypt: FILE crypto.py \t\t 1UXiuvpIZTIbMQd1vbuxhqyBl2cplG-Xg\n",
      "> root: FOLDER mypydrive \t\t 1AahvtKsON23QCpWy9V3sFfu0iogoOvdL\n",
      "> mypydrive: FILE __init__.py \t\t 1FtE4ciUO6P3z7v4g82mh11QtXug0MiYm\n",
      "> mypydrive: FOLDER test \t\t 18_6zahp24csAkQbO-dFwJ2sy93Kvals9\n",
      "> test: FILE __init__.py \t\t 1U3vGOrlntnzrCQQDAoy8VVCJk-muWCX-\n",
      "> test: FILE test_util.py \t\t 1EUI0UPqmP9m74kWzrIS8QiNGNL8HDk35\n",
      "> test: FILE test_oauth.py \t\t 1JbNZXsFjOda-jl5_FJgCg1lizrgGyF32\n",
      "> test: FILE test_filelist.py \t\t 1Ax7XUelLo5aPpqY59D8gHSVQbxZ3UGE0\n",
      "> test: FILE test_file.py \t\t 11rLIvOokImFq5oATJjEFgKJE4lPUh_Hr\n",
      "> test: FILE test_drive.py \t\t 1Wy3eIvt6Y1zrrr-ldIyQcP8_5yYgtf1S\n",
      "> test: FILE test_apiattr.py \t\t 1S6VVowEZOLec6dHkrl7BufemuhIMIEm3\n",
      "> test: FOLDER settings \t\t 1sjOdzmXHjKanp4jrXmfZtpJG5-nzFO-B\n",
      "> settings: FILE test6.yaml \t\t 1VRWG5aEWrJSXn5SdB-uI26Jv78Q1IUZr\n",
      "> settings: FILE test5.yaml \t\t 1QPY8prE4CEuwpJ3svinc9ONzn1Bl8jXt\n",
      "> settings: FILE test4.yaml \t\t 1TC7q46NumT2aZ3truMx_fXqRRmaWnmm4\n",
      "> settings: FILE test3.yaml \t\t 1vFu2DX9miWgzEwhbhD2lYGJpg887n0VY\n",
      "> settings: FILE test2.yaml \t\t 1gcBKtzVTkqPFQq3B6q104n6g05kplHcP\n",
      "> settings: FILE test1.yaml \t\t 1oAtSIceU1EzBkKwQFSnzxb__M46C3udB\n",
      "> settings: FILE default.yaml \t\t 1aWZOqBE954jTAcwy1VLSiOZ7jQkup_vH\n",
      "> test: FILE README.rst \t\t 1uZJtOdZPBdgxFSLQkjHKr41qpVI3KPh5\n",
      "> mypydrive: FILE settings.py \t\t 10vBnLpoSDwgU_eEC2gyfP0TYUT_CPIdT\n",
      "> mypydrive: FILE files.py \t\t 1L_4U1gpAaGkZm5T34qhVmn92m_ppDz0O\n",
      "> mypydrive: FILE drive.py \t\t 1M5j2NCzg-o-iq2r6JakvEeo0Fwh6GxG-\n",
      "> mypydrive: FILE auth.py \t\t 1BWNOh0-jE1U15FduRqbiQWgKLa3MiKe8\n",
      "> mypydrive: FILE apiattr.py \t\t 1G_-D8cFMtuAiDLAZr0ShR5HpPEnmKKhc\n",
      "> root: FILE GDrive_test.ipynb \t\t 1rXeAni3Ofrqp0AycoAFPPlwV_yHIgsdW\n",
      "> root: FILE GDrive_clean.ipynb \t\t 1KMemLYVl-vDme_ZE8Qi9IysXZOts6PDU\n",
      "> root: FILE ctest.ciph \t\t 1osRmRPgE6Lcvg2ibCQ7Tf6GvJdQgk5Sx\n",
      "> root: FILE client_secrets.json \t\t 1xfQTcbeABIT3SXa9eXOUDtMU6Tp-sVEt\n",
      "> root: FILE .gitignore \t\t 1Z8j3mG5tAOHuCeoRTw99EO7AD6yELAdc\n"
     ]
    }
   ],
   "source": [
    "class DriveHandler:\n",
    "    \n",
    "    def __init__(self, password = \"foopassword\", bufferSize = 64 * 1024):\n",
    "        self.root_id = \"1YJkqN-qtRHXnL4GvT3icGyl05_dcYTE6\"\n",
    "#         self.root = drive.CreateFile({'id': self.root_id})\n",
    "        self.cache = None\n",
    "        self.bufferSize = bufferSize\n",
    "        self.password = password\n",
    "    \n",
    "    def create_folder(self, child_name=None, parent_id=None):\n",
    "        if parent_id is None:\n",
    "            parent_id = self.root_id\n",
    "        if child_name is None:\n",
    "            child_name = \"New Folder\"\n",
    "        child_folder = drive.CreateFile({'title': child_name, \n",
    "                                         'parents':[{'id':parent_id}], \n",
    "                                         'mimeType' : 'application/vnd.google-apps.folder'})\n",
    "        child_folder.Upload()\n",
    "        return child_folder['id']\n",
    "    \n",
    "    def create_encrypted_file(self, fname, parent_id):\n",
    "        if parent_id is None:\n",
    "            parent_id = self.root_id\n",
    "        return encript_and_upload(fname, parent_id, self.bufferSize, self.password)\n",
    "    \n",
    "    def upload_folder_tree(self, tree, drive_id=None, level=0, verbose=True, indent = \"|---\"):\n",
    "        cwd = os.getcwd()  # restore cwd after recursion is finished\n",
    "        parent_folder = tree['title']\n",
    "        os.chdir(parent_folder) \n",
    "            \n",
    "        for f in tree['children']:\n",
    "            if f['isfolder']:\n",
    "                f['id'] = self.create_folder(f['title'], drive_id)\n",
    "                if verbose: print(f\"{indent*level}> {parent_folder}: FOLDER {f['title']} \\t\\t {f['id']}\")\n",
    "                self.upload_folder_tree(f, f['id'], level+1, verbose, indent)\n",
    "            else:\n",
    "                f['id'] = self.create_encrypted_file(f['title'], drive_id)\n",
    "                if verbose: print(f\"{indent*level}> {parent_folder}: FILE {f['title']} \\t\\t {f['id']}\")\n",
    "        \n",
    "        os.chdir(cwd)\n",
    "        return tree\n",
    "    \n",
    "    def download_folder_tree(self, fsave, tree, ignore=[], level=0, verbose=True, indent = \"|---\"):\n",
    "        cwd = os.getcwd()  # restore cwd after recursion is finished\n",
    "        parent_folder = tree['title']\n",
    "        os.chdir(fsave) \n",
    "        \n",
    "        for f in tree['children']:\n",
    "            if f['isfolder']:\n",
    "                mkdir(f['title'])\n",
    "                if verbose: print(f\"{indent*level}> {parent_folder}: FOLDER {f['title']} \\t\\t {f['id']}\")\n",
    "                self.download_folder_tree(f['title'], f, verbose=verbose, indent=indent, level=level+1)\n",
    "            else:\n",
    "                decript_stream_and_save(f['id'], self.bufferSize, self.password)\n",
    "                if verbose: print(f\"{indent*level}> {parent_folder}: FILE {f['title']} \\t\\t {f['id']}\")\n",
    "        \n",
    "        os.chdir(cwd)\n",
    "    \n",
    "    def scan_drive_tree(self, path_id):\n",
    "        dlist = driveListFolder(path_id)\n",
    "        return driveList2localDict(dlist, path_id, \"root\", verbose=False)\n",
    "        \n",
    "    def scan_local_folder_tree(self, path):\n",
    "        return localListFolder(path)\n",
    "\n",
    "os.chdir(\"D:\\\\Code_Base\\\\pyDrive\")\n",
    "asd = DriveHandler()\n",
    "dfiles = asd.scan_drive_tree(asd.root_id)\n",
    "# pprint(dfiles)\n",
    "\n",
    "\n",
    "asd.download_folder_tree('download', dfiles)\n",
    "# files = localListFolder('.')\n",
    "# pprint(files)\n",
    "# dfiles = asd.upload_folder_tree(files)\n",
    "# pprint(dfiles)"
   ]
  },
  {
   "cell_type": "code",
   "execution_count": null,
   "metadata": {},
   "outputs": [],
   "source": [
    "print(parent_id)\n",
    "file2 = drive.CreateFile({'id': parent_id})\n",
    "print('title: %s, mimeType: %s' % (file2['title'], file2['mimeType']))"
   ]
  },
  {
   "cell_type": "code",
   "execution_count": null,
   "metadata": {},
   "outputs": [],
   "source": [
    "\n",
    "# driveListFolder('1YJkqN-qtRHXnL4GvT3icGyl05_dcYTE6')\n",
    "os.chdir(\"D:\\\\Code_Base\\\\pyDrive\")\n",
    "asdd = localListFolder('.', verbose=True)"
   ]
  },
  {
   "cell_type": "code",
   "execution_count": null,
   "metadata": {},
   "outputs": [],
   "source": [
    "# l = os.listdir(\"./.ipynb_checkpoints\")\n",
    "# os.chdir(\"..\")\n",
    "# print([d for d in l if os.path.isdir(d)])\n",
    "# print([d for d in l if not os.path.isdir(d)])\n",
    "os.getcwd() "
   ]
  }
 ],
 "metadata": {
  "kernelspec": {
   "display_name": "Python 3",
   "language": "python",
   "name": "python3"
  },
  "language_info": {
   "codemirror_mode": {
    "name": "ipython",
    "version": 3
   },
   "file_extension": ".py",
   "mimetype": "text/x-python",
   "name": "python",
   "nbconvert_exporter": "python",
   "pygments_lexer": "ipython3",
   "version": "3.7.6"
  }
 },
 "nbformat": 4,
 "nbformat_minor": 4
}
