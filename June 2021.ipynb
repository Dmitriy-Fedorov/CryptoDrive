{
 "cells": [
  {
   "cell_type": "code",
   "execution_count": null,
   "id": "845f1dd1-7720-4d8a-9d32-e107b490860b",
   "metadata": {
    "tags": []
   },
   "outputs": [],
   "source": [
    "from pydrive.auth import GoogleAuth\n",
    "# from pydrive.drive import GoogleDrive\n",
    "import extGoogleDrive as extGoogleDrive\n",
    "# from extGoogleDrive import extGoogleDrive as GoogleDrive\n",
    "from pprint import pprint\n",
    "import pyAesCrypt\n",
    "import io\n",
    "import os\n",
    "import hashlib\n",
    "import numpy as np\n",
    "\n",
    "from helpers import mkdir, driveList2localDict, ignore, strip_aes, file_size, size_to_upload\n",
    "from helpers import obfuscate, deobfuscate\n",
    "\n",
    "# gauth = GoogleAuth()\n",
    "# gauth.LocalWebserverAuth() # client_secrets.json need to be in the same directory as the script\n",
    "# drive = extGoogleDrive.extGoogleDrive(gauth)"
   ]
  },
  {
   "cell_type": "markdown",
   "id": "3287968a-9ec2-4fad-8b5a-432daec78f4c",
   "metadata": {},
   "source": [
    "## List local files"
   ]
  },
  {
   "cell_type": "code",
   "execution_count": null,
   "id": "a82a2266-d67d-42c4-bf34-bc4d67b6580d",
   "metadata": {
    "tags": []
   },
   "outputs": [],
   "source": [
    "def get_local_folder(root_path, verbose=False):\n",
    "    folder_list= {root_path: \"\"}\n",
    "    def localListFolder(path_structure, verbose=verbose):\n",
    "        local_folders = [d for d in os.listdir(path_structure) if os.path.isdir(os.path.join(path_structure, d))]\n",
    "        for f in local_folders:\n",
    "            if ignore(f):\n",
    "                if verbose: print(f\"{path_structure}/{f}: {f['id']}\")\n",
    "                folder_list[f\"{path_structure}/{f}\"] = \"\"\n",
    "                localListFolder(f\"{path_structure}/{f}\", verbose=verbose)\n",
    "            \n",
    "    localListFolder(root_path, verbose=verbose)\n",
    "    return folder_list\n",
    "\n",
    "get_local_folder(\"./mypydrive_1\")"
   ]
  },
  {
   "cell_type": "code",
   "execution_count": null,
   "id": "c203f5d9-d2ce-4a22-84c4-ccaa43b58cea",
   "metadata": {
    "tags": []
   },
   "outputs": [],
   "source": [
    "def get_local_files(path):\n",
    "    folders = get_local_folder(path)\n",
    "    lfile_list = {}\n",
    "    for fpath, _ in folders.items():\n",
    "        lfile_list[fpath] = {d: \"\" for d in os.listdir(fpath) if ignore(d) and os.path.isfile(os.path.join(fpath, d))}\n",
    "    return lfile_list\n",
    "        \n",
    "get_local_files(\"./mypydrive_1\")"
   ]
  },
  {
   "cell_type": "markdown",
   "id": "c568dcf2-9846-4c80-bfb8-48b4c0c1da29",
   "metadata": {},
   "source": [
    "## List remote folders"
   ]
  },
  {
   "cell_type": "code",
   "execution_count": null,
   "id": "3018e90a-bd63-4bb4-8a18-420910655468",
   "metadata": {
    "tags": []
   },
   "outputs": [],
   "source": [
    "password = hashlib.sha256(\"foopassword\".encode(\"utf-8\")).hexdigest()\n",
    "root_id = \"1YJkqN-qtRHXnL4GvT3icGyl05_dcYTE6\"\n",
    "\n",
    "def get_remote_folders(verbose=True, decipher=True):\n",
    "    folder_list= {\"remote_root\": \"1YJkqN-qtRHXnL4GvT3icGyl05_dcYTE6\"}\n",
    "    if verbose: print(f\"remote_root: '1YJkqN-qtRHXnL4GvT3icGyl05_dcYTE6'\")\n",
    "    \n",
    "    def driveListFolder( parent, path_structure, verbose=verbose, decipher=decipher):\n",
    "        remote_folders = drive.ListFile({'q': f\"'{parent}' in parents and trashed=false and mimeType='application/vnd.google-apps.folder'\"}).GetList()\n",
    "        for f in remote_folders:\n",
    "            title = f['title']\n",
    "            if decipher: title = deobfuscate(password, title)\n",
    "            if verbose: print(f\"{path_structure}/{title}: {f['id']}\")\n",
    "            folder_list[f\"{path_structure}/{title}\"] = f['id']\n",
    "    #         folder_list.append({f\"{path_structure}/{title}\": f['id']})\n",
    "            driveListFolder(f['id'], f\"{path_structure}/{title}\", verbose, decipher)\n",
    "        \n",
    "    driveListFolder(root_id, \"remote_root\", decipher=decipher, verbose=verbose)\n",
    "    return folder_list\n",
    "            \n",
    "\n",
    "# driveListFolder(root_id, \"root\", decipher=True, verbose=False)\n",
    "r_folders = get_remote_folders(verbose=True)\n",
    "r_folders"
   ]
  },
  {
   "cell_type": "markdown",
   "id": "05a77d94-125e-4ea0-8549-0ad752fc8c56",
   "metadata": {},
   "source": [
    "## List remote Files"
   ]
  },
  {
   "cell_type": "code",
   "execution_count": null,
   "id": "61b431cb-49af-4bdf-ae75-b54c7ef59776",
   "metadata": {
    "tags": []
   },
   "outputs": [],
   "source": [
    "def get_remote_files(remote_folders):\n",
    "    r_files = {}\n",
    "    decipher = True\n",
    "    for folder_name, folder_id in remote_folders.items():\n",
    "        files = {}\n",
    "        remote_files = drive.ListFile({'q': f\"'{folder_id}' in parents and trashed=false and mimeType!='application/vnd.google-apps.folder'\"}).GetList()\n",
    "        for f in remote_files:\n",
    "            title = f['title']\n",
    "            if decipher: title = deobfuscate(password, strip_aes(title))\n",
    "#             files.append({f\"{title}\": f['id']})\n",
    "            files[f\"{title}\"] = f['id']\n",
    "        r_files[folder_name] = files\n",
    "    return r_files\n",
    "        \n",
    "r_files = get_remote_files(r_folders)\n",
    "r_files"
   ]
  },
  {
   "cell_type": "markdown",
   "id": "76411622-5f6c-4609-9234-5adce3b76acb",
   "metadata": {},
   "source": [
    "# To upload"
   ]
  },
  {
   "cell_type": "markdown",
   "id": "24d8d480-dfe5-4a24-b418-2291c0d2dab4",
   "metadata": {},
   "source": [
    "## Drive class handler"
   ]
  },
  {
   "cell_type": "code",
   "execution_count": null,
   "id": "d8ec2136-3936-4d54-b37e-05af9cc74619",
   "metadata": {
    "tags": []
   },
   "outputs": [],
   "source": [
    "class DriveHandler:\n",
    "    \n",
    "    def __init__(self, local_root, password = \"foopassword\", bufferSize=64*1024, cipher=True):\n",
    "        self.root_id = \"1YJkqN-qtRHXnL4GvT3icGyl05_dcYTE6\"\n",
    "        self.local_root = local_root\n",
    "        self.cache = None\n",
    "        self.bufferSize = bufferSize\n",
    "        self.password = hashlib.sha256(password.encode(\"utf-8\")).hexdigest()\n",
    "#         self.drive = drive\n",
    "        self.cipher = cipher\n",
    "\n",
    "d = DriveHandler(\"./mypydrive_1\")"
   ]
  },
  {
   "cell_type": "markdown",
   "id": "365e5844-c355-4355-b0f4-63e9e965e6ee",
   "metadata": {},
   "source": [
    "## Upload folders"
   ]
  },
  {
   "cell_type": "code",
   "execution_count": null,
   "id": "7bb57259-71d3-46b3-b574-cb9a1446345a",
   "metadata": {
    "tags": []
   },
   "outputs": [],
   "source": [
    "def folders_to_create(self, r_folders):\n",
    "    L_folders = get_local_folder(self.local_root)\n",
    "    to_create = []\n",
    "    for folder in L_folders:\n",
    "        rf = folder.replace(self.local_root, \"remote_root\")\n",
    "        if rf not in r_folders.keys():\n",
    "            to_create.append(rf)\n",
    "    return to_create\n",
    "\n",
    "\n",
    "folders_to_create(d, r_folders)"
   ]
  },
  {
   "cell_type": "code",
   "execution_count": null,
   "id": "e2a17fd2-4ad7-4114-badd-1f3bc721d306",
   "metadata": {
    "tags": []
   },
   "outputs": [],
   "source": [
    "def create_remote_folder(self, r_folders, cipher=True):\n",
    "    to_create = folders_to_create(self, r_folders)\n",
    "    for f in to_create:\n",
    "        dirs = f.split(\"/\")\n",
    "        n = len(dirs)\n",
    "        for i in range(n):\n",
    "            remote_path = '/'.join(dirs[:i+1])\n",
    "            if remote_path in r_folders.keys():\n",
    "                continue\n",
    "            else:\n",
    "                parent_id = r_folders['/'.join(dirs[:i])]\n",
    "                if cipher: child_name = obfuscate(self.password, dirs[i])\n",
    "                child_folder = drive.CreateFile({'title': child_name, \n",
    "                                                  'parents':[{'id':parent_id}], \n",
    "                                                  'mimeType' : 'application/vnd.google-apps.folder'})\n",
    "                child_folder.Upload()\n",
    "                r_folders[remote_path] = child_folder['id']\n",
    "                print(remote_path, child_name, parent_id, child_folder['id'])\n",
    "            \n",
    "create_remote_folder(d, r_folders)\n",
    "r_folders"
   ]
  },
  {
   "cell_type": "markdown",
   "id": "227a9946-7749-46de-934a-a02df55ca625",
   "metadata": {},
   "source": [
    "## Upload Files"
   ]
  },
  {
   "cell_type": "code",
   "execution_count": null,
   "id": "dec0928c-e120-4680-a386-9e0565607dbf",
   "metadata": {
    "tags": []
   },
   "outputs": [],
   "source": [
    "def encript_and_upload(self, fname, parent_id):\n",
    "    fIn = open(fname, \"rb\")\n",
    "    fCiph = io.BytesIO()\n",
    "    pyAesCrypt.encryptStream(fIn, fCiph, self.password, self.bufferSize)\n",
    "\n",
    "    if self.cipher: fname = obfuscate(self.password, fname)\n",
    "    file = drive.CreateFile({'title': f\"{fname}.aes\", \n",
    "                                  'parents':[{'id': parent_id}]\n",
    "                                 })\n",
    "    file.SetContentBinary(fCiph)\n",
    "    file.Upload() # Actual Upload\n",
    "\n",
    "    fIn.close()\n",
    "    return file['id']"
   ]
  },
  {
   "cell_type": "code",
   "execution_count": null,
   "id": "8d2fa33b-7d6f-462e-a410-591c91a38b67",
   "metadata": {
    "tags": []
   },
   "outputs": [],
   "source": [
    "def files_to_upload(self):\n",
    "    to_upload = []\n",
    "    for folder, files in get_local_files(self.local_root).items():\n",
    "        lf = folder\n",
    "        rf = folder.replace(self.local_root, \"remote_root\")\n",
    "        items = r_files.get(rf , {})\n",
    "        for f in files:\n",
    "            if f not in items.keys():\n",
    "                to_upload.append( (f\"{lf}/{f}\", r_folders[rf]) )\n",
    "#                 \n",
    "    return to_upload\n",
    "f2upload = files_to_upload(d)\n",
    "f2upload"
   ]
  },
  {
   "cell_type": "code",
   "execution_count": null,
   "id": "771637d3-9070-4909-88ab-6ffc682f4210",
   "metadata": {
    "tags": []
   },
   "outputs": [],
   "source": [
    "def size_to_upload(f2upload, in_bytes=False):\n",
    "    total = np.sum([file_size(f[0], in_bytes=True) for f in f2upload])\n",
    "    if in_bytes:\n",
    "        return total\n",
    "    return file_size(total)\n",
    "\n",
    "def file_size(fname, in_bytes=False, true_bytes=True):\n",
    "    if type(fname) is str:\n",
    "        byte = os.stat(fname).st_size\n",
    "    else:\n",
    "        byte = fname\n",
    "    if in_bytes:\n",
    "        return byte\n",
    "    if byte == 0:\n",
    "        return 0\n",
    "    if true_bytes:\n",
    "        power = np.log2(byte)\n",
    "        if power < 10:\n",
    "            return f\"{byte}\"\n",
    "        elif power < 20:\n",
    "            return f\"{byte/2**10:.2f}Kb\"\n",
    "        elif power < 30:\n",
    "            return f\"{byte/2**20:.2f}Mb\"\n",
    "        else:\n",
    "            return f\"{byte/2**30:.2f}Gb\"\n",
    "    else:\n",
    "        power = np.log10(byte)\n",
    "        if power < 3:\n",
    "            return f\"{byte}\"\n",
    "        elif power < 6:\n",
    "            return f\"{byte/1e3:.2f}Kb\"\n",
    "        elif power < 9:\n",
    "            return f\"{byte/1e6:.2f}Mb\"\n",
    "        else:\n",
    "            return f\"{byte/1e9:.2f}Gb\""
   ]
  },
  {
   "cell_type": "code",
   "execution_count": null,
   "id": "017cc8f9-f739-450d-8048-16d1a4f0888b",
   "metadata": {
    "tags": []
   },
   "outputs": [],
   "source": [
    "def upload_files(self, f2upload):\n",
    "    total = size_to_upload(f2upload, in_bytes=True)\n",
    "    print(f'Total to upload: {file_size(total)}')\n",
    "    for fname, parent_id in f2upload:\n",
    "        file_id = encript_and_upload(self, fname, parent_id)\n",
    "        total -= file_size(fname, in_bytes=True)\n",
    "        print(f\"{file_size(total):7} | {file_id} | {fname}\")\n",
    "    \n",
    "upload_files(d, f2upload)"
   ]
  },
  {
   "cell_type": "markdown",
   "id": "297c768c-eedb-4c07-b009-0af398ab2047",
   "metadata": {},
   "source": [
    "## Files to remove"
   ]
  },
  {
   "cell_type": "code",
   "execution_count": null,
   "id": "4d74a6a5-234a-43d7-a2cf-f848e93d8c50",
   "metadata": {
    "tags": []
   },
   "outputs": [],
   "source": [
    "def folders_to_delete(self, r_folders):\n",
    "    L_folders = get_local_folder(self.local_root)\n",
    "    to_delete = []\n",
    "    for folder, folder_id in r_folders.items():\n",
    "        rf = folder.replace(\"remote_root\", self.local_root)\n",
    "        if rf not in L_folders.keys():\n",
    "            to_delete.append((folder, folder_id))\n",
    "    return to_delete\n",
    "\n",
    "to_delete = folders_to_delete(d, r_folders)\n",
    "to_delete"
   ]
  },
  {
   "cell_type": "code",
   "execution_count": null,
   "id": "6277b129-4d5c-4594-a60b-6933f5368fee",
   "metadata": {
    "tags": []
   },
   "outputs": [],
   "source": [
    "def delete_remote_folders(self, to_delete):\n",
    "    for folder, folder_id in to_delete:\n",
    "        file = drive.CreateFile({'id': folder_id})\n",
    "        file.Trash()\n",
    "\n",
    "delete_remote_folders(d, to_delete)"
   ]
  },
  {
   "cell_type": "code",
   "execution_count": null,
   "id": "521a6b0b-bfd1-4f99-bde3-268fa871be55",
   "metadata": {},
   "outputs": [],
   "source": [
    "file = drive.CreateFile({'id': _id})\n",
    "file.Trash()"
   ]
  }
 ],
 "metadata": {
  "kernelspec": {
   "display_name": "GDrive",
   "language": "python",
   "name": "gdrive"
  },
  "language_info": {
   "codemirror_mode": {
    "name": "ipython",
    "version": 3
   },
   "file_extension": ".py",
   "mimetype": "text/x-python",
   "name": "python",
   "nbconvert_exporter": "python",
   "pygments_lexer": "ipython3",
   "version": "3.9.5"
  }
 },
 "nbformat": 4,
 "nbformat_minor": 5
}
