{
 "cells": [
  {
   "cell_type": "code",
   "execution_count": 1,
   "metadata": {},
   "outputs": [
    {
     "name": "stdout",
     "output_type": "stream",
     "text": [
      "Your browser has been opened to visit:\n",
      "\n",
      "    https://accounts.google.com/o/oauth2/auth?client_id=1041234379035-ua0eveg1b0rb811hfmnj9n0m348a632h.apps.googleusercontent.com&redirect_uri=http%3A%2F%2Flocalhost%3A8090%2F&scope=https%3A%2F%2Fwww.googleapis.com%2Fauth%2Fdrive&access_type=offline&response_type=code\n",
      "\n",
      "Authentication successful.\n"
     ]
    }
   ],
   "source": [
    "from mypydrive.auth import GoogleAuth\n",
    "from mypydrive.drive import GoogleDrive\n",
    "# from extGoogleDrive import extGoogleDrive as GoogleDrive\n",
    "from pprint import pprint\n",
    "import pyAesCrypt\n",
    "import io\n",
    "import os\n",
    "\n",
    "gauth = GoogleAuth()\n",
    "gauth.LocalWebserverAuth() # client_secrets.json need to be in the same directory as the script\n",
    "drive = GoogleDrive(gauth)"
   ]
  },
  {
   "cell_type": "markdown",
   "metadata": {},
   "source": [
    "https://console.cloud.google.com/apis/credentials?authuser=1&folder=&organizationId=&project=quickstart-1579349870305"
   ]
  },
  {
   "cell_type": "code",
   "execution_count": 11,
   "metadata": {},
   "outputs": [
    {
     "name": "stdout",
     "output_type": "stream",
     "text": [
      "Title: test, ID: 1B3RlEbIGqnV3QrU856Cn4e1pNtEeuPNb, mime: application/vnd.google-apps.folder\n",
      "Title: Colab Notebooks, ID: 1P-5ivq0k-GOdS3waqSF42eWjkKn4p2ka, mime: application/vnd.google-apps.folder\n",
      "Title: py_backup, ID: 1YJkqN-qtRHXnL4GvT3icGyl05_dcYTE6, mime: application/vnd.google-apps.folder\n",
      "Title: other, ID: 15UZpLHZ-koagoj_T7RDYStcpKNXFcC5h, mime: application/vnd.google-apps.folder\n",
      "Title: Backup, ID: 1prgjfxfDBJOL_FxhDekqEk7Z1lXoEGGO, mime: application/vnd.google-apps.folder\n",
      "Title: orbi, ID: 1Qxre8vhr4qIsP2Sw2Qo8SM8SAzU9XQjm, mime: application/vnd.google-apps.folder\n",
      "Title: Share, ID: 1d5WSWmw8yJ-q4YwGq8MgeuMUM50NFXZP, mime: application/vnd.google-apps.folder\n"
     ]
    }
   ],
   "source": [
    "# View all folders and file in your Google Drive\n",
    "fileList = drive.ListFile({'q': \"'root' in parents and mimeType='application/vnd.google-apps.folder' and trashed=false\"}).GetList()\n",
    "for file in fileList:\n",
    "    print('Title: %s, ID: %s, mime: %s' % (file['title'], file['id'], file['mimeType']))\n",
    "    # Get the folder ID that you want\n",
    "    if(file['title'] == \"To Share\"):\n",
    "        fileID = file['id']"
   ]
  },
  {
   "cell_type": "code",
   "execution_count": 12,
   "metadata": {},
   "outputs": [
    {
     "data": {
      "text/plain": [
       "[{'title': 'test', 'id': '1B3RlEbIGqnV3QrU856Cn4e1pNtEeuPNb'},\n",
       " {'title': 'Colab Notebooks', 'id': '1P-5ivq0k-GOdS3waqSF42eWjkKn4p2ka'},\n",
       " {'title': 'py_backup', 'id': '1YJkqN-qtRHXnL4GvT3icGyl05_dcYTE6'},\n",
       " {'title': 'other', 'id': '15UZpLHZ-koagoj_T7RDYStcpKNXFcC5h'},\n",
       " {'title': 'Backup', 'id': '1prgjfxfDBJOL_FxhDekqEk7Z1lXoEGGO'},\n",
       " {'title': 'orbi', 'id': '1Qxre8vhr4qIsP2Sw2Qo8SM8SAzU9XQjm'},\n",
       " {'title': 'Share', 'id': '1d5WSWmw8yJ-q4YwGq8MgeuMUM50NFXZP'}]"
      ]
     },
     "execution_count": 12,
     "metadata": {},
     "output_type": "execute_result"
    }
   ],
   "source": [
    "def search_droot(folder):\n",
    "    fileList = drive.ListFile({'q': \"'root' in parents and mimeType='application/vnd.google-apps.folder' and trashed=false\"}).GetList()\n",
    "    return [{'title': f['title'], 'id': f['id']} for f in fileList if folder in f['title']]\n",
    "\n",
    "search_droot('')"
   ]
  },
  {
   "cell_type": "code",
   "execution_count": null,
   "metadata": {},
   "outputs": [],
   "source": [
    "# Create GoogleDriveFile instance with title 'Hello.txt'.\n",
    "file1 = drive.CreateFile()\n",
    "# file1.SetContentFile('test.jpg')\n",
    "file1.SetContentString(b'qweradf')\n",
    "file1.Upload() # Upload the file."
   ]
  },
  {
   "cell_type": "code",
   "execution_count": null,
   "metadata": {},
   "outputs": [],
   "source": [
    "# file1.SetContentString(img.dencode())\n",
    "file1 = drive.CreateFile()\n",
    "file1.SetContentBinary(open(\"test.jpg\", \"rb\"), \"ani.jpg\")\n",
    "file1.Upload() # Upload the file."
   ]
  },
  {
   "cell_type": "code",
   "execution_count": null,
   "metadata": {},
   "outputs": [],
   "source": [
    "def SetContentBinary(self, data, filename):\n",
    "    \"\"\"Set content of this file from a file.\n",
    "    Opens the file specified by this method.\n",
    "    Will be read, uploaded, and closed by Upload() method.\n",
    "    Sets metadata 'title' and 'mimeType' automatically if not specified.\n",
    "    :param filename: name of the file to be uploaded.\n",
    "    :type filename: str.\n",
    "    \"\"\"\n",
    "    self.content = data\n",
    "    if self.get('title') is None:\n",
    "        self['title'] = filename\n",
    "    if self.get('mimeType') is None:\n",
    "        self['mimeType'] = mimetypes.guess_type(filename)[0]\n",
    "\n",
    "def GetContentBinary(self, filename, mimetype=None, remove_bom=False):\n",
    "    \"\"\"Save content of this file as a local file Dimon.\n",
    "\n",
    "    :param filename: name of the file to write to.\n",
    "    :type filename: str\n",
    "    :param mimetype: mimeType of the file.\n",
    "    :type mimetype: str\n",
    "    :param remove_bom: Whether to remove the byte order marking.\n",
    "    :type remove_bom: bool\n",
    "    :raises: ApiRequestError, FileNotUploadedError, FileNotDownloadableError\n",
    "    \"\"\"\n",
    "    if self.content is None or \\\n",
    "                    type(self.content) is not io.BytesIO or \\\n",
    "                    self.has_bom == remove_bom:\n",
    "        self.FetchContent(mimetype, remove_bom)\n",
    "    return self.content.getvalue()"
   ]
  },
  {
   "cell_type": "markdown",
   "metadata": {
    "tags": []
   },
   "source": [
    "### Test encription IO"
   ]
  },
  {
   "cell_type": "code",
   "execution_count": null,
   "metadata": {},
   "outputs": [],
   "source": [
    "import pyAesCrypt\n",
    "import io\n",
    "\n",
    "bufferSize = 64 * 1024\n",
    "password = \"foopassword\"\n",
    "# binary data to be encrypted\n",
    "pbdata = b\"This is binary plaintext\"\n",
    "# input plaintext binary stream\n",
    "fIn = io.BytesIO(pbdata)\n",
    "# initialize ciphertext binary stream\n",
    "fCiph = io.BytesIO()\n",
    "# initialize decrypted binary stream\n",
    "fDec = io.BytesIO()\n",
    "# encrypt stream\n",
    "pyAesCrypt.encryptStream(fIn, fCiph, password, bufferSize)\n",
    "# print encrypted data\n",
    "print(\"This is the ciphertext:\\n\" + str(fCiph.getvalue()) +  f\" {len(str(fCiph.getvalue()))}\")\n",
    "\n",
    "# get ciphertext length\n",
    "ctlen = len(fCiph.getvalue())\n",
    "\n",
    "# go back to the start of the ciphertext stream\n",
    "fCiph.seek(0)\n",
    "\n",
    "# decrypt stream\n",
    "pyAesCrypt.decryptStream(fCiph, fDec, password, bufferSize, ctlen)\n",
    "\n",
    "# print decrypted data\n",
    "print(\"Decrypted data:\\n\" + str(fDec.getvalue()))"
   ]
  },
  {
   "cell_type": "code",
   "execution_count": null,
   "metadata": {},
   "outputs": [],
   "source": [
    "file1 = drive.CreateFile()\n",
    "file1.SetContentBinary(fCiph, \"ctest.ciph\")\n",
    "file1.Upload() # Upload the file."
   ]
  },
  {
   "cell_type": "code",
   "execution_count": null,
   "metadata": {},
   "outputs": [],
   "source": [
    "# decrypt stream\n",
    "fCiphFile = open(\"ctest.ciph\", \"rb\")\n",
    "pyAesCrypt.decryptStream(fCiphFile, fDec, password, bufferSize, ctlen)\n",
    "\n",
    "# print decrypted data\n",
    "print(\"Decrypted data:\\n\" + str(fDec.getvalue()))"
   ]
  },
  {
   "cell_type": "code",
   "execution_count": null,
   "metadata": {},
   "outputs": [],
   "source": [
    "def decript_and_save(fname, bufferSize = 64 * 1024, password = \"foopassword\"):\n",
    "    pyAesCrypt.decryptFile(fname, fname.replace(\".ciph\", \"\"), password, bufferSize)\n",
    "\n",
    "\n",
    "\n",
    "\"1M5j2NCzg-o-iq2r6JakvEeo0Fwh6GxG-\"\n",
    "decript_stream_and_save('asd.txt', \"1M5j2NCzg-o-iq2r6JakvEeo0Fwh6GxG-\")\n",
    "\n",
    "# dfile = drive.CreateFile({'id': \"1M5j2NCzg-o-iq2r6JakvEeo0Fwh6GxG-\"})\n",
    "# fCiph = dfile.GetContentBinary(\"asd\")\n",
    "# print(fCiph)\n",
    "# decript_and_save(\"test2.jpg.ciph\")"
   ]
  },
  {
   "cell_type": "markdown",
   "metadata": {},
   "source": [
    "### Useful functions"
   ]
  },
  {
   "cell_type": "code",
   "execution_count": 3,
   "metadata": {},
   "outputs": [],
   "source": [
    "def driveListFolder(parent):\n",
    "    filelist=[]\n",
    "    file_list = drive.ListFile({'q': f\"'{parent}' in parents and trashed=false\"}).GetList()\n",
    "    for f in file_list:\n",
    "        if f['mimeType']=='application/vnd.google-apps.folder': # if folder\n",
    "            filelist.append({\"id\": f['id'],\n",
    "                             \"isfolder\": True,\n",
    "                             \"title\": f['title'],\n",
    "                             \"list\": driveListFolder(f['id'])\n",
    "                            })\n",
    "        else:\n",
    "            filelist.append({\"id\": f[\"id\"],\n",
    "                             \"title\": f['title'], \n",
    "                             \"isfolder\": False\n",
    "                            })\n",
    "    return filelist\n",
    "\n",
    "def localListFolder(parent, level=0, verbose=False,\n",
    "                   ignore=['.git', \".ipynb_checkpoints\", \"__pycache__\"]):\n",
    "    cwd = os.getcwd()  # restore cwd after recursion is finished\n",
    "    os.chdir(parent) \n",
    "    indent = '    '\n",
    "    folder_dict={\"isfolder\": True, \n",
    "                 \"title\": parent,\n",
    "                 \"children\": []}\n",
    "    file_list = [asd for asd in os.listdir(\".\") if asd not in ignore]\n",
    "    for f in file_list:\n",
    "        if os.path.isdir(f): # if folder\n",
    "            if verbose: print(f\"{indent*level}{parent}: folder {f}\")\n",
    "            folder_dict['children'].append(localListFolder(f, level=level+1, verbose=verbose))\n",
    "        else:\n",
    "            if verbose: print(f\"{indent*level}{parent}: file   {f}\")\n",
    "            folder_dict['children'].append({\"isfolder\": False, \n",
    "                                            \"title\": f})\n",
    "\n",
    "    os.chdir(cwd)\n",
    "    return folder_dict\n",
    "\n",
    "# pprint(localListFolder('.'))\n",
    "# dlist = driveListFolder(asd.root_id)\n",
    "# pprint(dlist)\n",
    "# os.getcwd()"
   ]
  },
  {
   "cell_type": "code",
   "execution_count": 4,
   "metadata": {},
   "outputs": [],
   "source": [
    "# dlist = driveListFolder(asd.root_id)\n",
    "\n",
    "def driveList2localDict(dlist, id, parent, level=0, verbose=True, indent = \"|---\"):\n",
    "    folder_dict={\"isfolder\": True, \n",
    "                 \"id\": id,\n",
    "                 \"title\": parent,\n",
    "                 \"children\": []}\n",
    "    for f in dlist:\n",
    "        if f[\"isfolder\"]:\n",
    "            if verbose: print(f\"{indent*level}{parent}: FOLDER {f['title']}\")\n",
    "            folder_dict['children'].append(driveList2localDict(f['list'], f['id'], f['title'], level+1, verbose, indent))\n",
    "        else:\n",
    "            if verbose: print(f\"{indent*level}{parent}: FILE   {f['title']}\")\n",
    "            folder_dict['children'].append({\"isfolder\": False, \n",
    "                                            \"id\": f[\"id\"],\n",
    "                                            \"title\": f['title']})\n",
    "    return folder_dict\n",
    "            \n",
    "# pprint(driveList2localDict(dlist, \"Asd\", \"py_backup\", verbose=False))"
   ]
  },
  {
   "cell_type": "code",
   "execution_count": 5,
   "metadata": {},
   "outputs": [],
   "source": [
    "def encript_and_upload(fname, parent_id, bufferSize = 64 * 1024, password = \"foopassword\"):\n",
    "    fIn = open(fname, \"rb\")\n",
    "    fCiph = io.BytesIO()\n",
    "    pyAesCrypt.encryptStream(fIn, fCiph, password, bufferSize)\n",
    "    \n",
    "    file = drive.CreateFile({'title': fname, \n",
    "                             'parents':[{'id': parent_id}]\n",
    "                             })\n",
    "    file.SetContentBinary(fCiph)\n",
    "    file.Upload() # Upload the file.\n",
    "    \n",
    "    fIn.close()\n",
    "    return file['id']\n",
    "\n",
    "def decript_stream_and_save(drive_file_id, bufferSize = 64 * 1024, password = \"foopassword\"):\n",
    "    fDec = io.BytesIO()\n",
    "    dfile = drive.CreateFile({'id': drive_file_id})\n",
    "    fCiph = io.BytesIO(dfile.GetContentBinary())\n",
    "    pyAesCrypt.decryptStream(fCiph, fDec, password, bufferSize, len(fCiph.getvalue()))\n",
    "    with open(dfile['title'], 'wb') as f:\n",
    "        f.write(fDec.getvalue())"
   ]
  },
  {
   "cell_type": "code",
   "execution_count": 6,
   "metadata": {},
   "outputs": [],
   "source": [
    "def mkdir(folder_name):\n",
    "    try: \n",
    "        os.mkdir(folder_name)\n",
    "    except FileExistsError:\n",
    "        pass"
   ]
  },
  {
   "cell_type": "markdown",
   "metadata": {},
   "source": [
    "### Drive folders"
   ]
  },
  {
   "cell_type": "code",
   "execution_count": 7,
   "metadata": {},
   "outputs": [
    {
     "name": "stdout",
     "output_type": "stream",
     "text": [
      "> root: FOLDER pyAesCrypt \t\t 15yXQqX35rt8RG9z2ZjyAqaSBFv3g0OGu\n",
      "> pyAesCrypt: FILE __init__.py \t\t 1VzrPjr7F8naNOsRbGVbXfs8GlhB9Cpra\n",
      "> pyAesCrypt: FILE test_crypto.py \t\t 10b7s0qP3iBoWoz4ljdsawzPDiHuaDIC9\n",
      "> pyAesCrypt: FILE crypto.py \t\t 1UXiuvpIZTIbMQd1vbuxhqyBl2cplG-Xg\n",
      "> root: FOLDER mypydrive \t\t 1AahvtKsON23QCpWy9V3sFfu0iogoOvdL\n",
      "> mypydrive: FILE __init__.py \t\t 1FtE4ciUO6P3z7v4g82mh11QtXug0MiYm\n",
      "> mypydrive: FOLDER test \t\t 18_6zahp24csAkQbO-dFwJ2sy93Kvals9\n",
      "> test: FILE __init__.py \t\t 1U3vGOrlntnzrCQQDAoy8VVCJk-muWCX-\n",
      "> test: FILE test_util.py \t\t 1EUI0UPqmP9m74kWzrIS8QiNGNL8HDk35\n",
      "> test: FILE test_oauth.py \t\t 1JbNZXsFjOda-jl5_FJgCg1lizrgGyF32\n",
      "> test: FILE test_filelist.py \t\t 1Ax7XUelLo5aPpqY59D8gHSVQbxZ3UGE0\n",
      "> test: FILE test_file.py \t\t 11rLIvOokImFq5oATJjEFgKJE4lPUh_Hr\n",
      "> test: FILE test_drive.py \t\t 1Wy3eIvt6Y1zrrr-ldIyQcP8_5yYgtf1S\n",
      "> test: FILE test_apiattr.py \t\t 1S6VVowEZOLec6dHkrl7BufemuhIMIEm3\n",
      "> test: FOLDER settings \t\t 1sjOdzmXHjKanp4jrXmfZtpJG5-nzFO-B\n",
      "> settings: FILE test6.yaml \t\t 1VRWG5aEWrJSXn5SdB-uI26Jv78Q1IUZr\n",
      "> settings: FILE test5.yaml \t\t 1QPY8prE4CEuwpJ3svinc9ONzn1Bl8jXt\n",
      "> settings: FILE test4.yaml \t\t 1TC7q46NumT2aZ3truMx_fXqRRmaWnmm4\n",
      "> settings: FILE test3.yaml \t\t 1vFu2DX9miWgzEwhbhD2lYGJpg887n0VY\n",
      "> settings: FILE test2.yaml \t\t 1gcBKtzVTkqPFQq3B6q104n6g05kplHcP\n",
      "> settings: FILE test1.yaml \t\t 1oAtSIceU1EzBkKwQFSnzxb__M46C3udB\n",
      "> settings: FILE default.yaml \t\t 1aWZOqBE954jTAcwy1VLSiOZ7jQkup_vH\n",
      "> test: FILE README.rst \t\t 1uZJtOdZPBdgxFSLQkjHKr41qpVI3KPh5\n",
      "> mypydrive: FILE settings.py \t\t 10vBnLpoSDwgU_eEC2gyfP0TYUT_CPIdT\n",
      "> mypydrive: FILE files.py \t\t 1L_4U1gpAaGkZm5T34qhVmn92m_ppDz0O\n",
      "> mypydrive: FILE drive.py \t\t 1M5j2NCzg-o-iq2r6JakvEeo0Fwh6GxG-\n",
      "> mypydrive: FILE auth.py \t\t 1BWNOh0-jE1U15FduRqbiQWgKLa3MiKe8\n",
      "> mypydrive: FILE apiattr.py \t\t 1G_-D8cFMtuAiDLAZr0ShR5HpPEnmKKhc\n",
      "> root: FILE GDrive_test.ipynb \t\t 1rXeAni3Ofrqp0AycoAFPPlwV_yHIgsdW\n",
      "> root: FILE GDrive_clean.ipynb \t\t 1KMemLYVl-vDme_ZE8Qi9IysXZOts6PDU\n",
      "> root: FILE ctest.ciph \t\t 1osRmRPgE6Lcvg2ibCQ7Tf6GvJdQgk5Sx\n",
      "> root: FILE client_secrets.json \t\t 1xfQTcbeABIT3SXa9eXOUDtMU6Tp-sVEt\n",
      "> root: FILE .gitignore \t\t 1Z8j3mG5tAOHuCeoRTw99EO7AD6yELAdc\n"
     ]
    }
   ],
   "source": [
    "class DriveHandler:\n",
    "    \n",
    "    def __init__(self, password = \"foopassword\", bufferSize = 64 * 1024):\n",
    "        self.root_id = \"1YJkqN-qtRHXnL4GvT3icGyl05_dcYTE6\"\n",
    "#         self.root = drive.CreateFile({'id': self.root_id})\n",
    "        self.cache = None\n",
    "        self.bufferSize = bufferSize\n",
    "        self.password = password\n",
    "    \n",
    "    def create_folder(self, child_name=None, parent_id=None):\n",
    "        if parent_id is None:\n",
    "            parent_id = self.root_id\n",
    "        if child_name is None:\n",
    "            child_name = \"New Folder\"\n",
    "        child_folder = drive.CreateFile({'title': child_name, \n",
    "                                         'parents':[{'id':parent_id}], \n",
    "                                         'mimeType' : 'application/vnd.google-apps.folder'})\n",
    "        child_folder.Upload()\n",
    "        return child_folder['id']\n",
    "    \n",
    "    def create_encrypted_file(self, fname, parent_id):\n",
    "        if parent_id is None:\n",
    "            parent_id = self.root_id\n",
    "        return encript_and_upload(fname, parent_id, self.bufferSize, self.password)\n",
    "    \n",
    "    def upload_folder_tree(self, tree, drive_id=None, level=0, verbose=True, indent = \"|---\"):\n",
    "        cwd = os.getcwd()  # restore cwd after recursion is finished\n",
    "        parent_folder = tree['title']\n",
    "        os.chdir(parent_folder) \n",
    "            \n",
    "        for f in tree['children']:\n",
    "            if f['isfolder']:\n",
    "                f['id'] = self.create_folder(f['title'], drive_id)\n",
    "                if verbose: print(f\"{indent*level}> {parent_folder}: FOLDER {f['title']} \\t\\t {f['id']}\")\n",
    "                self.upload_folder_tree(f, f['id'], level+1, verbose, indent)\n",
    "            else:\n",
    "                f['id'] = self.create_encrypted_file(f['title'], drive_id)\n",
    "                if verbose: print(f\"{indent*level}> {parent_folder}: FILE {f['title']} \\t\\t {f['id']}\")\n",
    "        \n",
    "        os.chdir(cwd)\n",
    "        return tree\n",
    "    \n",
    "    def download_folder_tree(self, fsave, tree, ignore=[], level=0, verbose=True, indent = \"|---\"):\n",
    "        cwd = os.getcwd()  # restore cwd after recursion is finished\n",
    "        parent_folder = tree['title']\n",
    "        os.chdir(fsave) \n",
    "        \n",
    "        for f in tree['children']:\n",
    "            if f['isfolder']:\n",
    "                mkdir(f['title'])\n",
    "                if verbose: print(f\"{indent*level}> {parent_folder}: FOLDER {f['title']} \\t\\t {f['id']}\")\n",
    "                self.download_folder_tree(f['title'], f, verbose=verbose, indent=indent, level=level+1)\n",
    "            else:\n",
    "                decript_stream_and_save(f['id'], self.bufferSize, self.password)\n",
    "                if verbose: print(f\"{indent*level}> {parent_folder}: FILE {f['title']} \\t\\t {f['id']}\")\n",
    "        \n",
    "        os.chdir(cwd)\n",
    "    \n",
    "    def scan_drive_tree(self, path_id):\n",
    "        dlist = driveListFolder(path_id)\n",
    "        return driveList2localDict(dlist, path_id, \"root\", verbose=False)\n",
    "        \n",
    "    def scan_local_folder_tree(self, path):\n",
    "        return localListFolder(path)\n",
    "\n",
    "os.chdir(\"D:\\\\Code_Base\\\\pyDrive\")\n",
    "asd = DriveHandler()\n",
    "dfiles = asd.scan_drive_tree(asd.root_id)\n",
    "# pprint(dfiles)\n",
    "\n",
    "\n",
    "asd.download_folder_tree('download', dfiles)\n",
    "# files = localListFolder('.')\n",
    "# pprint(files)\n",
    "# dfiles = asd.upload_folder_tree(files)\n",
    "# pprint(dfiles)"
   ]
  },
  {
   "cell_type": "code",
   "execution_count": null,
   "metadata": {},
   "outputs": [],
   "source": [
    "print(parent_id)\n",
    "file2 = drive.CreateFile({'id': parent_id})\n",
    "print('title: %s, mimeType: %s' % (file2['title'], file2['mimeType']))"
   ]
  },
  {
   "cell_type": "code",
   "execution_count": null,
   "metadata": {},
   "outputs": [],
   "source": [
    "\n",
    "# driveListFolder('1YJkqN-qtRHXnL4GvT3icGyl05_dcYTE6')\n",
    "os.chdir(\"D:\\\\Code_Base\\\\pyDrive\")\n",
    "asdd = localListFolder('.', verbose=True)"
   ]
  },
  {
   "cell_type": "code",
   "execution_count": 4,
   "metadata": {
    "collapsed": true,
    "jupyter": {
     "outputs_hidden": true
    }
   },
   "outputs": [
    {
     "data": {
      "text/plain": [
       "['CreateFile',\n",
       " 'GetAbout',\n",
       " 'GetContentBinary',\n",
       " 'ListFile',\n",
       " 'SetContentBinary',\n",
       " '__class__',\n",
       " '__delattr__',\n",
       " '__dict__',\n",
       " '__dir__',\n",
       " '__doc__',\n",
       " '__eq__',\n",
       " '__format__',\n",
       " '__ge__',\n",
       " '__getattribute__',\n",
       " '__gt__',\n",
       " '__hash__',\n",
       " '__init__',\n",
       " '__init_subclass__',\n",
       " '__le__',\n",
       " '__lt__',\n",
       " '__module__',\n",
       " '__ne__',\n",
       " '__new__',\n",
       " '__reduce__',\n",
       " '__reduce_ex__',\n",
       " '__repr__',\n",
       " '__setattr__',\n",
       " '__sizeof__',\n",
       " '__str__',\n",
       " '__subclasshook__',\n",
       " '__weakref__']"
      ]
     },
     "execution_count": 4,
     "metadata": {},
     "output_type": "execute_result"
    }
   ],
   "source": [
    "# l = os.listdir(\"./.ipynb_checkpoints\")\n",
    "# os.chdir(\"..\")\n",
    "# print([d for d in l if os.path.isdir(d)])\n",
    "# print([d for d in l if not os.path.isdir(d)])\n",
    "os.getcwd() \n",
    "dir(GoogleDrive)"
   ]
  },
  {
   "cell_type": "markdown",
   "metadata": {},
   "source": [
    "# Tree of 3"
   ]
  },
  {
   "cell_type": "code",
   "execution_count": 1,
   "metadata": {
    "execution": {
     "iopub.execute_input": "2020-06-18T08:19:00.974785Z",
     "iopub.status.busy": "2020-06-18T08:19:00.974785Z",
     "iopub.status.idle": "2020-06-18T08:19:00.977787Z",
     "shell.execute_reply": "2020-06-18T08:19:00.977787Z",
     "shell.execute_reply.started": "2020-06-18T08:19:00.974785Z"
    }
   },
   "outputs": [],
   "source": [
    "import os\n",
    "import re"
   ]
  },
  {
   "cell_type": "markdown",
   "metadata": {},
   "source": [
    "## Tree"
   ]
  },
  {
   "cell_type": "code",
   "execution_count": 22,
   "metadata": {
    "execution": {
     "iopub.execute_input": "2020-06-18T08:50:46.762284Z",
     "iopub.status.busy": "2020-06-18T08:50:46.762284Z",
     "iopub.status.idle": "2020-06-18T08:50:46.774254Z",
     "shell.execute_reply": "2020-06-18T08:50:46.774254Z",
     "shell.execute_reply.started": "2020-06-18T08:50:46.762284Z"
    }
   },
   "outputs": [],
   "source": [
    "class Tree:\n",
    "    \n",
    "    def __init__(self, path, parent=None, level=None, type='folder'):\n",
    "        self.path = path\n",
    "        self.parent = parent\n",
    "        self.type = type\n",
    "        self.folders = {}\n",
    "        self.files = {}\n",
    "        self.level = level\n",
    "    \n",
    "    @property\n",
    "    def folder_list(self):\n",
    "        return list(self.folders.keys())\n",
    "    \n",
    "    @property\n",
    "    def file_list(self):\n",
    "        return list(self.files.keys())\n",
    "    \n",
    "    @property\n",
    "    def child_list(self):\n",
    "        return self.folder_list + self.file_list \n",
    "    \n",
    "    def __str__(self):\n",
    "        return self.__repr__()\n",
    "\n",
    "    def __repr__(self):\n",
    "        s = \"~\"*20 + \"\\n\"\n",
    "        if self.parent is not None: \n",
    "            s += f\"(parent.path, {self.parent.__getitem__('path')})\\n\"\n",
    "        else:\n",
    "            s += f\"(parent.path, None)\\n\"\n",
    "        \n",
    "        for k, v in self.__dict__.items():\n",
    "            if k not in ['parent', \"folders\", \"files\"]:\n",
    "                if v is not None: s += f\"{k, v}\\n\"\n",
    "        \n",
    "        s += f\"(child_list, {self.child_list})\"\n",
    "        s += \"\\n\" +\"~\"*20 + \"\\n\"\n",
    "        return s\n",
    "    \n",
    "    def __sub__(self, other):\n",
    "        file_diff = set(self.file_list).difference(set(other.file_list))\n",
    "        folder_diff = set(self.file_list).difference(set(other.file_list)) \n",
    "        \n",
    "    \n",
    "    def __setitem__(self, k, v):\n",
    "        self.__setattr__(k, v)\n",
    "        \n",
    "    def __getitem__(self, k):\n",
    "        try:\n",
    "            return self.__getattribute__(k)\n",
    "        except:\n",
    "            if k in self.folder_list:\n",
    "                return self.folders[k]\n",
    "            elif k in self.file_list:\n",
    "                return self.files[k]\n",
    "            else:\n",
    "                return None"
   ]
  },
  {
   "cell_type": "code",
   "execution_count": 3,
   "metadata": {
    "execution": {
     "iopub.execute_input": "2020-06-18T08:19:07.212255Z",
     "iopub.status.busy": "2020-06-18T08:19:07.212255Z",
     "iopub.status.idle": "2020-06-18T08:19:07.222228Z",
     "shell.execute_reply": "2020-06-18T08:19:07.221232Z",
     "shell.execute_reply.started": "2020-06-18T08:19:07.212255Z"
    }
   },
   "outputs": [],
   "source": [
    "def localListFolder(path, parent=None, level=0, verbose=False, ignore=None):\n",
    "    indent = ''\n",
    "    file_list = [asd.name for asd in os.scandir(path) if not asd.is_dir() and not re.match(r'[\\d~_.]', asd.name)]\n",
    "    folder_list = [asd.name for asd in os.scandir(path) if asd.is_dir()]\n",
    "    \n",
    "    tree = Tree(path, parent, level=level)\n",
    "    for f in folder_list:\n",
    "        if verbose: print(f\"{indent*level}>{parent}:\\t|{f}|\")\n",
    "        tree['folders'][f] = localListFolder(f\"{path}\\\\{f}\", tree, level=level+1, verbose=verbose)\n",
    "    else:\n",
    "        tree['files'] = {f: Tree(f, parent=tree, level=level, type=\"file\") for f in file_list}\n",
    "        \n",
    "    return tree\n",
    "\n",
    "\n",
    "\n",
    "    "
   ]
  },
  {
   "cell_type": "code",
   "execution_count": 7,
   "metadata": {
    "execution": {
     "iopub.execute_input": "2020-06-18T08:30:51.212579Z",
     "iopub.status.busy": "2020-06-18T08:30:51.212579Z",
     "iopub.status.idle": "2020-06-18T08:30:51.219525Z",
     "shell.execute_reply": "2020-06-18T08:30:51.218573Z",
     "shell.execute_reply.started": "2020-06-18T08:30:51.212579Z"
    }
   },
   "outputs": [
    {
     "name": "stdout",
     "output_type": "stream",
     "text": [
      "~~~~~~~~~~~~~~~~~~~~\n",
      "(parent.path, None)\n",
      "('path', '.\\\\mypydrive_1')\n",
      "('type', 'folder')\n",
      "('level', 0)\n",
      "(child_list, ['.ipynb_checkpoints', 'test', 'apiattr.py', 'auth.py', 'drive.py', 'files.py', 'settings.py'])\n",
      "~~~~~~~~~~~~~~~~~~~~\n",
      "\n"
     ]
    }
   ],
   "source": [
    "root = r\".\\mypydrive_1\"\n",
    "struct = localListFolder(root, verbose=False)\n",
    "print(struct)"
   ]
  },
  {
   "cell_type": "code",
   "execution_count": 5,
   "metadata": {
    "collapsed": true,
    "execution": {
     "iopub.execute_input": "2020-06-18T08:22:42.409537Z",
     "iopub.status.busy": "2020-06-18T08:22:42.409537Z",
     "iopub.status.idle": "2020-06-18T08:23:32.139759Z",
     "shell.execute_reply": "2020-06-18T08:23:32.138763Z",
     "shell.execute_reply.started": "2020-06-18T08:22:42.409537Z"
    },
    "jupyter": {
     "outputs_hidden": true
    }
   },
   "outputs": [
    {
     "name": "stdout",
     "output_type": "stream",
     "text": [
      "~~~~~~~~~~~~~~~~~~~~\n",
      "(parent.path, None)\n",
      "('path', '.\\\\mypydrive')\n",
      "('type', 'folder')\n",
      "('level', 0)\n",
      "(child_list, ['.ipynb_checkpoints', 'test', '__pycache__', 'apiattr.py', 'auth.py', 'drive.py', 'files.py', 'settings.py'])\n",
      "~~~~~~~~~~~~~~~~~~~~\n",
      "\n",
      "['.ipynb_checkpoints', 'test', '__pycache__', 'apiattr.py', 'auth.py', 'drive.py', 'files.py', 'settings.py']\n"
     ]
    },
    {
     "name": "stdin",
     "output_type": "stream",
     "text": [
      "Navigate:  1\n"
     ]
    },
    {
     "name": "stdout",
     "output_type": "stream",
     "text": [
      "~~~~~~~~~~~~~~~~~~~~\n",
      "(parent.path, None)\n",
      "('path', '.\\\\mypydrive')\n",
      "('type', 'folder')\n",
      "('level', 0)\n",
      "(child_list, ['.ipynb_checkpoints', 'test', '__pycache__', 'apiattr.py', 'auth.py', 'drive.py', 'files.py', 'settings.py'])\n",
      "~~~~~~~~~~~~~~~~~~~~\n",
      "\n",
      "['.ipynb_checkpoints', 'test', '__pycache__', 'apiattr.py', 'auth.py', 'drive.py', 'files.py', 'settings.py']\n"
     ]
    },
    {
     "name": "stdin",
     "output_type": "stream",
     "text": [
      "Navigate:  test\n"
     ]
    },
    {
     "name": "stdout",
     "output_type": "stream",
     "text": [
      "~~~~~~~~~~~~~~~~~~~~\n",
      "(parent.path, .\\mypydrive)\n",
      "('path', '.\\\\mypydrive\\\\test')\n",
      "('type', 'folder')\n",
      "('level', 1)\n",
      "(child_list, ['settings', 'README.rst', 'test_apiattr.py', 'test_drive.py', 'test_file.py', 'test_filelist.py', 'test_oauth.py', 'test_util.py'])\n",
      "~~~~~~~~~~~~~~~~~~~~\n",
      "\n",
      "['settings', 'README.rst', 'test_apiattr.py', 'test_drive.py', 'test_file.py', 'test_filelist.py', 'test_oauth.py', 'test_util.py']\n"
     ]
    },
    {
     "name": "stdin",
     "output_type": "stream",
     "text": [
      "Navigate:  back\n"
     ]
    },
    {
     "name": "stdout",
     "output_type": "stream",
     "text": [
      "~~~~~~~~~~~~~~~~~~~~\n",
      "(parent.path, None)\n",
      "('path', '.\\\\mypydrive')\n",
      "('type', 'folder')\n",
      "('level', 0)\n",
      "(child_list, ['.ipynb_checkpoints', 'test', '__pycache__', 'apiattr.py', 'auth.py', 'drive.py', 'files.py', 'settings.py'])\n",
      "~~~~~~~~~~~~~~~~~~~~\n",
      "\n",
      "['.ipynb_checkpoints', 'test', '__pycache__', 'apiattr.py', 'auth.py', 'drive.py', 'files.py', 'settings.py']\n"
     ]
    },
    {
     "name": "stdin",
     "output_type": "stream",
     "text": [
      "Navigate:  back\n"
     ]
    },
    {
     "name": "stdout",
     "output_type": "stream",
     "text": [
      "None\n"
     ]
    },
    {
     "ename": "AttributeError",
     "evalue": "'NoneType' object has no attribute 'child_list'",
     "output_type": "error",
     "traceback": [
      "\u001b[1;31m---------------------------------------------------------------------------\u001b[0m",
      "\u001b[1;31mAttributeError\u001b[0m                            Traceback (most recent call last)",
      "\u001b[1;32m<ipython-input-5-d9d826132866>\u001b[0m in \u001b[0;36m<module>\u001b[1;34m\u001b[0m\n\u001b[0;32m     11\u001b[0m         \u001b[1;32mexcept\u001b[0m \u001b[0mKeyboardInterrupt\u001b[0m\u001b[1;33m:\u001b[0m\u001b[1;33m\u001b[0m\u001b[1;33m\u001b[0m\u001b[0m\n\u001b[0;32m     12\u001b[0m             \u001b[1;32mbreak\u001b[0m\u001b[1;33m\u001b[0m\u001b[1;33m\u001b[0m\u001b[0m\n\u001b[1;32m---> 13\u001b[1;33m \u001b[0mnavigate\u001b[0m\u001b[1;33m(\u001b[0m\u001b[0mstruct\u001b[0m\u001b[1;33m)\u001b[0m\u001b[1;33m\u001b[0m\u001b[1;33m\u001b[0m\u001b[0m\n\u001b[0m",
      "\u001b[1;32m<ipython-input-5-d9d826132866>\u001b[0m in \u001b[0;36mnavigate\u001b[1;34m(current)\u001b[0m\n\u001b[0;32m      3\u001b[0m         \u001b[1;32mtry\u001b[0m\u001b[1;33m:\u001b[0m\u001b[1;33m\u001b[0m\u001b[1;33m\u001b[0m\u001b[0m\n\u001b[0;32m      4\u001b[0m             \u001b[0mprint\u001b[0m\u001b[1;33m(\u001b[0m\u001b[0mcurrent\u001b[0m\u001b[1;33m)\u001b[0m\u001b[1;33m\u001b[0m\u001b[1;33m\u001b[0m\u001b[0m\n\u001b[1;32m----> 5\u001b[1;33m             \u001b[0mprint\u001b[0m\u001b[1;33m(\u001b[0m\u001b[0mcurrent\u001b[0m\u001b[1;33m.\u001b[0m\u001b[0mchild_list\u001b[0m\u001b[1;33m)\u001b[0m\u001b[1;33m\u001b[0m\u001b[1;33m\u001b[0m\u001b[0m\n\u001b[0m\u001b[0;32m      6\u001b[0m             \u001b[0msel\u001b[0m \u001b[1;33m=\u001b[0m \u001b[0minput\u001b[0m\u001b[1;33m(\u001b[0m\u001b[1;34m'Navigate: '\u001b[0m\u001b[1;33m)\u001b[0m\u001b[1;33m\u001b[0m\u001b[1;33m\u001b[0m\u001b[0m\n\u001b[0;32m      7\u001b[0m             \u001b[1;32mif\u001b[0m \u001b[0msel\u001b[0m \u001b[1;32min\u001b[0m \u001b[0mcurrent\u001b[0m\u001b[1;33m[\u001b[0m\u001b[1;34m'child_list'\u001b[0m\u001b[1;33m]\u001b[0m\u001b[1;33m:\u001b[0m\u001b[1;33m\u001b[0m\u001b[1;33m\u001b[0m\u001b[0m\n",
      "\u001b[1;31mAttributeError\u001b[0m: 'NoneType' object has no attribute 'child_list'"
     ]
    }
   ],
   "source": [
    "def navigate(current):\n",
    "    while True:\n",
    "        try:\n",
    "            print(current)\n",
    "            print(current.child_list)\n",
    "            sel = input('Navigate: ')\n",
    "            if sel in current['child_list']:\n",
    "                current = current[sel]\n",
    "            elif sel == \"back\":\n",
    "                current = current[\"parent\"]\n",
    "        except KeyboardInterrupt:\n",
    "            break\n",
    "navigate(struct) "
   ]
  },
  {
   "cell_type": "markdown",
   "metadata": {
    "execution": {
     "iopub.execute_input": "2020-06-18T08:32:47.235737Z",
     "iopub.status.busy": "2020-06-18T08:32:47.235737Z",
     "iopub.status.idle": "2020-06-18T08:32:47.239727Z",
     "shell.execute_reply": "2020-06-18T08:32:47.238728Z",
     "shell.execute_reply.started": "2020-06-18T08:32:47.235737Z"
    }
   },
   "source": [
    "## Diff tree"
   ]
  },
  {
   "cell_type": "code",
   "execution_count": 9,
   "metadata": {
    "execution": {
     "iopub.execute_input": "2020-06-18T08:33:59.966129Z",
     "iopub.status.busy": "2020-06-18T08:33:59.966129Z",
     "iopub.status.idle": "2020-06-18T08:33:59.972079Z",
     "shell.execute_reply": "2020-06-18T08:33:59.971114Z",
     "shell.execute_reply.started": "2020-06-18T08:33:59.966129Z"
    }
   },
   "outputs": [],
   "source": [
    "root_1 = r\".\\mypydrive_1\"\n",
    "struct_1 = localListFolder(root_1, verbose=False)\n",
    "root_2 = r\".\\mypydrive_2\"\n",
    "struct_2 = localListFolder(root_2, verbose=False)"
   ]
  },
  {
   "cell_type": "code",
   "execution_count": 21,
   "metadata": {
    "execution": {
     "iopub.execute_input": "2020-06-18T08:49:57.798306Z",
     "iopub.status.busy": "2020-06-18T08:49:57.798306Z",
     "iopub.status.idle": "2020-06-18T08:49:57.813503Z",
     "shell.execute_reply": "2020-06-18T08:49:57.811496Z",
     "shell.execute_reply.started": "2020-06-18T08:49:57.798306Z"
    }
   },
   "outputs": [
    {
     "data": {
      "text/plain": [
       "{'.ipynb_checkpoints', '__pycache__'}"
      ]
     },
     "execution_count": 21,
     "metadata": {},
     "output_type": "execute_result"
    }
   ],
   "source": [
    "difference = set(struct_1.file_list).difference(set(struct_2.file_list))\n",
    "difference\n",
    "set(struct_1.folder_list).symmetric_difference(set(struct_2.folder_list))"
   ]
  },
  {
   "cell_type": "code",
   "execution_count": null,
   "metadata": {},
   "outputs": [],
   "source": [
    "def diff(tree_1, tree_2):\n",
    "    "
   ]
  }
 ],
 "metadata": {
  "kernelspec": {
   "display_name": "Python 3",
   "language": "python",
   "name": "python3"
  },
  "language_info": {
   "codemirror_mode": {
    "name": "ipython",
    "version": 3
   },
   "file_extension": ".py",
   "mimetype": "text/x-python",
   "name": "python",
   "nbconvert_exporter": "python",
   "pygments_lexer": "ipython3",
   "version": "3.8.5"
  }
 },
 "nbformat": 4,
 "nbformat_minor": 4
}
