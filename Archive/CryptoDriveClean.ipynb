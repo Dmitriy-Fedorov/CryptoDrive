{
 "cells": [
  {
   "cell_type": "code",
   "execution_count": 1,
   "metadata": {
    "execution": {
     "iopub.execute_input": "2021-06-07T11:33:18.355153Z",
     "iopub.status.busy": "2021-06-07T11:33:18.355153Z",
     "iopub.status.idle": "2021-06-07T11:33:26.146482Z",
     "shell.execute_reply": "2021-06-07T11:33:26.146482Z",
     "shell.execute_reply.started": "2021-06-07T11:33:18.355153Z"
    },
    "tags": []
   },
   "outputs": [
    {
     "name": "stdout",
     "output_type": "stream",
     "text": [
      "Your browser has been opened to visit:\n",
      "\n",
      "    https://accounts.google.com/o/oauth2/auth?client_id=1041234379035-ua0eveg1b0rb811hfmnj9n0m348a632h.apps.googleusercontent.com&redirect_uri=http%3A%2F%2Flocalhost%3A8080%2F&scope=https%3A%2F%2Fwww.googleapis.com%2Fauth%2Fdrive&access_type=offline&response_type=code\n",
      "\n",
      "Authentication successful.\n"
     ]
    }
   ],
   "source": [
    "from pydrive.auth import GoogleAuth\n",
    "import extGoogleDrive\n",
    "import importlib\n",
    "import main\n",
    "\n",
    "gauth = GoogleAuth()\n",
    "gauth.LocalWebserverAuth() # client_secrets.json need to be in the same directory as the script\n",
    "drive =extGoogleDrive.extGoogleDrive(gauth)"
   ]
  },
  {
   "cell_type": "code",
   "execution_count": 4,
   "metadata": {
    "execution": {
     "iopub.execute_input": "2021-06-06T16:09:22.010829Z",
     "iopub.status.busy": "2021-06-06T16:09:22.010829Z",
     "iopub.status.idle": "2021-06-06T16:09:22.033771Z",
     "shell.execute_reply": "2021-06-06T16:09:22.032770Z",
     "shell.execute_reply.started": "2021-06-06T16:09:22.010829Z"
    },
    "tags": []
   },
   "outputs": [
    {
     "data": {
      "text/plain": [
       "<module 'extGoogleDrive' from 'D:\\\\Code_Base\\\\CryptoDrive\\\\extGoogleDrive.py'>"
      ]
     },
     "execution_count": 4,
     "metadata": {},
     "output_type": "execute_result"
    }
   ],
   "source": [
    "importlib.reload(main)\n",
    "importlib.reload(extGoogleDrive)"
   ]
  },
  {
   "cell_type": "code",
   "execution_count": 2,
   "metadata": {
    "execution": {
     "iopub.execute_input": "2021-06-07T11:33:36.994396Z",
     "iopub.status.busy": "2021-06-07T11:33:36.993398Z",
     "iopub.status.idle": "2021-06-07T11:33:37.009356Z",
     "shell.execute_reply": "2021-06-07T11:33:37.008406Z",
     "shell.execute_reply.started": "2021-06-07T11:33:36.994396Z"
    },
    "tags": []
   },
   "outputs": [],
   "source": [
    "d = main.DriveHandler(drive)"
   ]
  },
  {
   "cell_type": "code",
   "execution_count": 19,
   "metadata": {
    "execution": {
     "iopub.execute_input": "2021-06-07T11:58:30.602969Z",
     "iopub.status.busy": "2021-06-07T11:58:30.602969Z",
     "iopub.status.idle": "2021-06-07T11:58:30.617928Z",
     "shell.execute_reply": "2021-06-07T11:58:30.616932Z",
     "shell.execute_reply.started": "2021-06-07T11:58:30.602969Z"
    },
    "tags": []
   },
   "outputs": [
    {
     "name": "stdout",
     "output_type": "stream",
     "text": [
      "mypydrive_2: file   apiattr.py\n",
      "mypydrive_2: file   auth.py\n",
      "mypydrive_2: file   drive.py\n",
      "mypydrive_2: file   files.py\n",
      "mypydrive_2: folder test_2\n",
      "    test_2: file   README.rst\n",
      "    test_2: folder settings\n",
      "        settings: file   default.yaml\n",
      "        settings: file   test1.yaml\n",
      "        settings: file   test2.yaml\n",
      "        settings: file   test3.yaml\n",
      "        settings: file   test4.yaml\n",
      "        settings: file   test5.yaml\n",
      "        settings: file   test6.yaml\n",
      "    test_2: file   test_apiattr.py\n",
      "    test_2: file   test_drive.py\n",
      "    test_2: file   test_file.py\n",
      "    test_2: file   test_filelist.py\n",
      "    test_2: file   test_oauth.py\n",
      "    test_2: file   test_util.py\n",
      "    test_2: file   __init__.py\n"
     ]
    },
    {
     "data": {
      "text/plain": [
       "{'isfolder': True,\n",
       " 'title': 'mypydrive_2',\n",
       " 'children': [{'isfolder': False, 'title': 'apiattr.py'},\n",
       "  {'isfolder': False, 'title': 'auth.py'},\n",
       "  {'isfolder': False, 'title': 'drive.py'},\n",
       "  {'isfolder': False, 'title': 'files.py'},\n",
       "  {'isfolder': True,\n",
       "   'title': 'test_2',\n",
       "   'children': [{'isfolder': False, 'title': 'README.rst'},\n",
       "    {'isfolder': True,\n",
       "     'title': 'settings',\n",
       "     'children': [{'isfolder': False, 'title': 'default.yaml'},\n",
       "      {'isfolder': False, 'title': 'test1.yaml'},\n",
       "      {'isfolder': False, 'title': 'test2.yaml'},\n",
       "      {'isfolder': False, 'title': 'test3.yaml'},\n",
       "      {'isfolder': False, 'title': 'test4.yaml'},\n",
       "      {'isfolder': False, 'title': 'test5.yaml'},\n",
       "      {'isfolder': False, 'title': 'test6.yaml'}]},\n",
       "    {'isfolder': False, 'title': 'test_apiattr.py'},\n",
       "    {'isfolder': False, 'title': 'test_drive.py'},\n",
       "    {'isfolder': False, 'title': 'test_file.py'},\n",
       "    {'isfolder': False, 'title': 'test_filelist.py'},\n",
       "    {'isfolder': False, 'title': 'test_oauth.py'},\n",
       "    {'isfolder': False, 'title': 'test_util.py'},\n",
       "    {'isfolder': False, 'title': '__init__.py'}]}]}"
      ]
     },
     "execution_count": 19,
     "metadata": {},
     "output_type": "execute_result"
    }
   ],
   "source": [
    "local = d.localListFolder(\"mypydrive_2\", verbose=True)\n",
    "# local = d.localListFolder(\"D:\\\\[Photo]\")\n",
    "local"
   ]
  },
  {
   "cell_type": "code",
   "execution_count": 20,
   "metadata": {
    "collapsed": true,
    "execution": {
     "iopub.execute_input": "2021-06-07T11:58:45.048805Z",
     "iopub.status.busy": "2021-06-07T11:58:45.048805Z",
     "iopub.status.idle": "2021-06-07T11:59:16.848951Z",
     "shell.execute_reply": "2021-06-07T11:59:16.846008Z",
     "shell.execute_reply.started": "2021-06-07T11:58:45.048805Z"
    },
    "jupyter": {
     "outputs_hidden": true
    },
    "tags": []
   },
   "outputs": [
    {
     "name": "stdout",
     "output_type": "stream",
     "text": [
      "> mypydrive_2: FILE apiattr.py \t\t 1kc286OoVGP6foY-PHKfFdmgjjUeVKv3T\n",
      "> mypydrive_2: FILE auth.py \t\t 1lqJUL_OUArXhdAM7D7_8HdLI6mFRSGVF\n",
      "> mypydrive_2: FILE drive.py \t\t 1-7db6CkzQ89oAI89JSblZZCdZJEFFHJN\n",
      "> mypydrive_2: FILE files.py \t\t 19e0fkcIwsEWSpLaGZilFehAeUhhAap2V\n",
      "> mypydrive_2: FOLDER test_2 \t\t 1il91o2melt_SkjIxPNNPW1QkyBPb6P5Y\n",
      "|---> test_2: FILE README.rst \t\t 1Ea5pL-EWmAeiluRWYv-qu_79yvPQZmZH\n",
      "|---> test_2: FOLDER settings \t\t 1RSkzBrSDxu3ILEI8LtrP5JXHg7pOH-w3\n",
      "|---|---> settings: FILE default.yaml \t\t 1isOSwZMve9htn_4RY4bAPIgmfrait0Ul\n",
      "|---|---> settings: FILE test1.yaml \t\t 1o7LHLUeuTre_LAilZI2DMkCmfUwlUp25\n",
      "|---|---> settings: FILE test2.yaml \t\t 1Nn2XVShZma09RKjqdHUSoRR7Gu8wJLEH\n",
      "|---|---> settings: FILE test3.yaml \t\t 1oKjgOf008o0hsVTyTP45FSCuHJZR-61v\n",
      "|---|---> settings: FILE test4.yaml \t\t 1By6VFgdFpdX2lWJ6bzc5yI45S1rAw8jV\n",
      "|---|---> settings: FILE test5.yaml \t\t 1Lb-ouVlTE5cX-zMLXKQqvbt8H90XNZcq\n",
      "|---|---> settings: FILE test6.yaml \t\t 1WS3phx-EGk6Uzf3uueEMMUI-S0z-2WiD\n",
      "|---> test_2: FILE test_apiattr.py \t\t 1WUo-U9rywUH2KLbYHjt-HHPVa5GT8Fo1\n",
      "|---> test_2: FILE test_drive.py \t\t 1JKnfs3oKAP-A69lf0btyCyopdio9NBZA\n",
      "|---> test_2: FILE test_file.py \t\t 1dBf9SzIVyKZzAZjnaC1WGo1yCEXLJqSt\n",
      "|---> test_2: FILE test_filelist.py \t\t 1gLgKPQu9M_BhYCBiyPyMAkLBaVChJlTd\n",
      "|---> test_2: FILE test_oauth.py \t\t 1DuLGxDaziSt9l7mQJFo8PvgQVniC4DA2\n",
      "|---> test_2: FILE test_util.py \t\t 1z7Lz1WHgVzNJRhT8tWHkS3lTyBH432Om\n",
      "|---> test_2: FILE __init__.py \t\t 1qhuoyJJrSuCVOJ2JeOIzPU8XjetMGdYw\n"
     ]
    },
    {
     "data": {
      "text/plain": [
       "{'isfolder': True,\n",
       " 'title': 'mypydrive_2',\n",
       " 'children': [{'isfolder': False,\n",
       "   'title': 'apiattr.py',\n",
       "   'id': '1kc286OoVGP6foY-PHKfFdmgjjUeVKv3T'},\n",
       "  {'isfolder': False,\n",
       "   'title': 'auth.py',\n",
       "   'id': '1lqJUL_OUArXhdAM7D7_8HdLI6mFRSGVF'},\n",
       "  {'isfolder': False,\n",
       "   'title': 'drive.py',\n",
       "   'id': '1-7db6CkzQ89oAI89JSblZZCdZJEFFHJN'},\n",
       "  {'isfolder': False,\n",
       "   'title': 'files.py',\n",
       "   'id': '19e0fkcIwsEWSpLaGZilFehAeUhhAap2V'},\n",
       "  {'isfolder': True,\n",
       "   'title': 'test_2',\n",
       "   'children': [{'isfolder': False,\n",
       "     'title': 'README.rst',\n",
       "     'id': '1Ea5pL-EWmAeiluRWYv-qu_79yvPQZmZH'},\n",
       "    {'isfolder': True,\n",
       "     'title': 'settings',\n",
       "     'children': [{'isfolder': False,\n",
       "       'title': 'default.yaml',\n",
       "       'id': '1isOSwZMve9htn_4RY4bAPIgmfrait0Ul'},\n",
       "      {'isfolder': False,\n",
       "       'title': 'test1.yaml',\n",
       "       'id': '1o7LHLUeuTre_LAilZI2DMkCmfUwlUp25'},\n",
       "      {'isfolder': False,\n",
       "       'title': 'test2.yaml',\n",
       "       'id': '1Nn2XVShZma09RKjqdHUSoRR7Gu8wJLEH'},\n",
       "      {'isfolder': False,\n",
       "       'title': 'test3.yaml',\n",
       "       'id': '1oKjgOf008o0hsVTyTP45FSCuHJZR-61v'},\n",
       "      {'isfolder': False,\n",
       "       'title': 'test4.yaml',\n",
       "       'id': '1By6VFgdFpdX2lWJ6bzc5yI45S1rAw8jV'},\n",
       "      {'isfolder': False,\n",
       "       'title': 'test5.yaml',\n",
       "       'id': '1Lb-ouVlTE5cX-zMLXKQqvbt8H90XNZcq'},\n",
       "      {'isfolder': False,\n",
       "       'title': 'test6.yaml',\n",
       "       'id': '1WS3phx-EGk6Uzf3uueEMMUI-S0z-2WiD'}],\n",
       "     'id': '1RSkzBrSDxu3ILEI8LtrP5JXHg7pOH-w3'},\n",
       "    {'isfolder': False,\n",
       "     'title': 'test_apiattr.py',\n",
       "     'id': '1WUo-U9rywUH2KLbYHjt-HHPVa5GT8Fo1'},\n",
       "    {'isfolder': False,\n",
       "     'title': 'test_drive.py',\n",
       "     'id': '1JKnfs3oKAP-A69lf0btyCyopdio9NBZA'},\n",
       "    {'isfolder': False,\n",
       "     'title': 'test_file.py',\n",
       "     'id': '1dBf9SzIVyKZzAZjnaC1WGo1yCEXLJqSt'},\n",
       "    {'isfolder': False,\n",
       "     'title': 'test_filelist.py',\n",
       "     'id': '1gLgKPQu9M_BhYCBiyPyMAkLBaVChJlTd'},\n",
       "    {'isfolder': False,\n",
       "     'title': 'test_oauth.py',\n",
       "     'id': '1DuLGxDaziSt9l7mQJFo8PvgQVniC4DA2'},\n",
       "    {'isfolder': False,\n",
       "     'title': 'test_util.py',\n",
       "     'id': '1z7Lz1WHgVzNJRhT8tWHkS3lTyBH432Om'},\n",
       "    {'isfolder': False,\n",
       "     'title': '__init__.py',\n",
       "     'id': '1qhuoyJJrSuCVOJ2JeOIzPU8XjetMGdYw'}],\n",
       "   'id': '1il91o2melt_SkjIxPNNPW1QkyBPb6P5Y'}]}"
      ]
     },
     "execution_count": 20,
     "metadata": {},
     "output_type": "execute_result"
    }
   ],
   "source": [
    "# remote = d.upload_folder_tree(local)\n",
    "d.upload_folder_tree(local)\n",
    "# remote"
   ]
  },
  {
   "cell_type": "code",
   "execution_count": 24,
   "metadata": {
    "execution": {
     "iopub.execute_input": "2021-06-07T12:01:11.555616Z",
     "iopub.status.busy": "2021-06-07T12:01:11.555616Z",
     "iopub.status.idle": "2021-06-07T12:01:14.924348Z",
     "shell.execute_reply": "2021-06-07T12:01:14.921355Z",
     "shell.execute_reply.started": "2021-06-07T12:01:11.555616Z"
    },
    "tags": []
   },
   "outputs": [
    {
     "name": "stdout",
     "output_type": "stream",
     "text": [
      "1YJkqN-qtRHXnL4GvT3icGyl05_dcYTE6: FOLDER test_2\n",
      "|---1il91o2melt_SkjIxPNNPW1QkyBPb6P5Y: FILE   __init__.py\n",
      "|---1il91o2melt_SkjIxPNNPW1QkyBPb6P5Y: FILE   test_util.py\n",
      "|---1il91o2melt_SkjIxPNNPW1QkyBPb6P5Y: FILE   test_oauth.py\n",
      "|---1il91o2melt_SkjIxPNNPW1QkyBPb6P5Y: FILE   test_filelist.py\n",
      "|---1il91o2melt_SkjIxPNNPW1QkyBPb6P5Y: FILE   test_file.py\n",
      "|---1il91o2melt_SkjIxPNNPW1QkyBPb6P5Y: FILE   test_drive.py\n",
      "|---1il91o2melt_SkjIxPNNPW1QkyBPb6P5Y: FOLDER settings\n",
      "|---|---1RSkzBrSDxu3ILEI8LtrP5JXHg7pOH-w3: FILE   test6.yaml\n",
      "|---|---1RSkzBrSDxu3ILEI8LtrP5JXHg7pOH-w3: FILE   test5.yaml\n",
      "|---|---1RSkzBrSDxu3ILEI8LtrP5JXHg7pOH-w3: FILE   test4.yaml\n",
      "|---|---1RSkzBrSDxu3ILEI8LtrP5JXHg7pOH-w3: FILE   test3.yaml\n",
      "|---|---1RSkzBrSDxu3ILEI8LtrP5JXHg7pOH-w3: FILE   test2.yaml\n",
      "|---|---1RSkzBrSDxu3ILEI8LtrP5JXHg7pOH-w3: FILE   test1.yaml\n",
      "|---|---1RSkzBrSDxu3ILEI8LtrP5JXHg7pOH-w3: FILE   default.yaml\n",
      "|---1il91o2melt_SkjIxPNNPW1QkyBPb6P5Y: FILE   README.rst\n",
      "1YJkqN-qtRHXnL4GvT3icGyl05_dcYTE6: FILE   files.py\n",
      "1YJkqN-qtRHXnL4GvT3icGyl05_dcYTE6: FILE   drive.py\n",
      "1YJkqN-qtRHXnL4GvT3icGyl05_dcYTE6: FILE   auth.py\n",
      "1YJkqN-qtRHXnL4GvT3icGyl05_dcYTE6: FILE   apiattr.py\n"
     ]
    }
   ],
   "source": [
    "remote = d.driveListFolder(d.root_id, decipher=True, verbose=True)\n",
    "# remote\n",
    "# d.download_folder_tree(\"test\", remote)"
   ]
  },
  {
   "cell_type": "code",
   "execution_count": 11,
   "metadata": {
    "collapsed": true,
    "execution": {
     "iopub.execute_input": "2021-06-07T11:48:53.762132Z",
     "iopub.status.busy": "2021-06-07T11:48:53.762132Z",
     "iopub.status.idle": "2021-06-07T11:48:53.774099Z",
     "shell.execute_reply": "2021-06-07T11:48:53.771107Z",
     "shell.execute_reply.started": "2021-06-07T11:48:53.762132Z"
    },
    "jupyter": {
     "outputs_hidden": true
    },
    "tags": []
   },
   "outputs": [
    {
     "data": {
      "text/plain": [
       "'__init__.py'"
      ]
     },
     "execution_count": 11,
     "metadata": {},
     "output_type": "execute_result"
    }
   ],
   "source": [
    "import helpers\n",
    "\n",
    "asd = helpers.strip_aes('dZH8HvSdXSI=BNzmRhFNfGSWbso=.aes')\n",
    "helpers.deobfuscate(d.password, asd)"
   ]
  },
  {
   "cell_type": "code",
   "execution_count": null,
   "metadata": {
    "tags": []
   },
   "outputs": [],
   "source": [
    "import os\n",
    "os.chdir(\"D:\\\\Code_Base\\\\CryptoDrive\")\n",
    "os.getcwd()"
   ]
  },
  {
   "cell_type": "markdown",
   "metadata": {
    "heading_collapsed": "true",
    "tags": []
   },
   "source": [
    "### Encryption Testing"
   ]
  },
  {
   "cell_type": "code",
   "execution_count": null,
   "metadata": {},
   "outputs": [],
   "source": [
    "import pyAesCrypt\n",
    "import base64\n",
    "import io"
   ]
  },
  {
   "cell_type": "code",
   "execution_count": null,
   "metadata": {
    "tags": []
   },
   "outputs": [],
   "source": [
    "bufferSize = 64*1024\n",
    "password = \"foopassword\"\n",
    "pbdata = b\"extGoogleDrive.py\"\n",
    "fIn = io.BytesIO(pbdata)\n",
    "fCiph = io.BytesIO()\n",
    "fDec = io.BytesIO()\n",
    "pyAesCrypt.encryptStream(fIn, fCiph, password, bufferSize)\n",
    "\n",
    "b64 = base64.b64encode(fCiph.getvalue())\n",
    "# print(\"This is the ciphertext:\\n\" + str(fCiph.getvalue()) +  f\" {len(str(fCiph.getvalue()))}\")\n",
    "print(\"This is the b64 ciphertext:\\n\" + str(b64))\n",
    "\n",
    "ctlen = len(fCiph.getvalue())\n",
    "\n",
    "fCiph.seek(0)\n",
    "\n",
    "# decrypt stream\n",
    "pyAesCrypt.decryptStream(fCiph, fDec, password, bufferSize, ctlen)\n",
    "\n",
    "# print decrypted data\n",
    "print(\"Decrypted data:\\n\" + str(fDec.getvalue()))"
   ]
  },
  {
   "cell_type": "code",
   "execution_count": null,
   "metadata": {},
   "outputs": [],
   "source": [
    "import json\n",
    "import hashlib\n",
    "# from base64 import b64encode\n",
    "# from base64 import b64decode\n",
    "# from Crypto.Cipher import ChaCha20\n",
    "# from Crypto.Random import get_random_bytes\n"
   ]
  },
  {
   "cell_type": "code",
   "execution_count": null,
   "metadata": {},
   "outputs": [],
   "source": [
    "hashlib.sha256(b\"asdasddddddddddddddddddddddddddddd\"*100).hexdigest()\n"
   ]
  },
  {
   "cell_type": "code",
   "execution_count": 12,
   "metadata": {
    "collapsed": true,
    "execution": {
     "iopub.execute_input": "2021-06-07T11:49:33.504028Z",
     "iopub.status.busy": "2021-06-07T11:49:33.504028Z",
     "iopub.status.idle": "2021-06-07T11:49:33.733159Z",
     "shell.execute_reply": "2021-06-07T11:49:33.732155Z",
     "shell.execute_reply.started": "2021-06-07T11:49:33.504028Z"
    },
    "jupyter": {
     "outputs_hidden": true
    },
    "tags": []
   },
   "outputs": [
    {
     "ename": "ModuleNotFoundError",
     "evalue": "No module named 'nested_diff'",
     "output_type": "error",
     "traceback": [
      "\u001b[1;31m---------------------------------------------------------------------------\u001b[0m",
      "\u001b[1;31mModuleNotFoundError\u001b[0m                       Traceback (most recent call last)",
      "\u001b[1;32m<ipython-input-12-816b3d06fde0>\u001b[0m in \u001b[0;36m<module>\u001b[1;34m\u001b[0m\n\u001b[1;32m----> 1\u001b[1;33m \u001b[1;32mfrom\u001b[0m \u001b[0mnested_diff\u001b[0m \u001b[1;32mimport\u001b[0m \u001b[0mdiff\u001b[0m\u001b[1;33m,\u001b[0m \u001b[0mpatch\u001b[0m\u001b[1;33m\u001b[0m\u001b[1;33m\u001b[0m\u001b[0m\n\u001b[0m",
      "\u001b[1;31mModuleNotFoundError\u001b[0m: No module named 'nested_diff'"
     ]
    }
   ],
   "source": [
    "from nested_diff import diff, patch"
   ]
  },
  {
   "cell_type": "markdown",
   "metadata": {},
   "source": [
    "# Diff testing"
   ]
  },
  {
   "cell_type": "code",
   "execution_count": 26,
   "metadata": {
    "execution": {
     "iopub.execute_input": "2021-06-07T12:01:40.196575Z",
     "iopub.status.busy": "2021-06-07T12:01:40.196575Z",
     "iopub.status.idle": "2021-06-07T12:01:40.215501Z",
     "shell.execute_reply": "2021-06-07T12:01:40.214503Z",
     "shell.execute_reply.started": "2021-06-07T12:01:40.196575Z"
    },
    "tags": []
   },
   "outputs": [
    {
     "data": {
      "text/plain": [
       "{'title': 'mypydrive_2',\n",
       " 'isfolder': True,\n",
       " 'children': [{'title': 'test_2',\n",
       "   'isfolder': True,\n",
       "   'children': [{'isfolder': False,\n",
       "     'title': 'test_apiattr.py',\n",
       "     'id': '1WUo-U9rywUH2KLbYHjt-HHPVa5GT8Fo1',\n",
       "     'exist': True},\n",
       "    {'title': 'settings', 'isfolder': True, 'children': [], 'exist': False}],\n",
       "   'exist': False}]}"
      ]
     },
     "execution_count": 26,
     "metadata": {},
     "output_type": "execute_result"
    }
   ],
   "source": [
    "def difference(d2, d1, level=0):  # d2 - d1\n",
    "    d1_folders = {ch['title']: ch for ch in d1['children'] if ch['isfolder']}\n",
    "    d1_files = [ch['title'] for ch in d1['children'] if not ch['isfolder']]\n",
    "\n",
    "    d2_folders = {ch['title']: ch for ch in d2['children'] if ch['isfolder']}\n",
    "    d2_files = [ch for ch in d2['children'] if not ch['isfolder']]\n",
    "\n",
    "    # completely new folders\n",
    "    diff_folders = [folder for folder in d2_folders.values() if folder['title'] not in d1_folders.keys()]\n",
    "    # existing folder, but they are required to be checked reqursevely\n",
    "    same_folders = [folder for folder in d2_folders.keys() if folder in d1_folders.keys()]\n",
    "\n",
    "    diff_next = [difference(d2_folders[folder], d1_folders[folder], level+1) for folder in same_folders]\n",
    "    diff_files = [file for file in d2_files if file['title'] not in d1_files]\n",
    "    \n",
    "    for folder in diff_next:\n",
    "        folder['exist'] = False\n",
    "    for folder in diff_folders:\n",
    "        folder['exist'] = True\n",
    "    for file in diff_files:\n",
    "        file['exist'] = True   \n",
    "    return {'title': d2['title'],\n",
    "            'isfolder': True,\n",
    "            'children': diff_folders + diff_files + diff_next}\n",
    "    \n",
    "# df = difference(remote, local)\n",
    "df = difference(local, remote)\n",
    "df"
   ]
  },
  {
   "cell_type": "code",
   "execution_count": 27,
   "metadata": {
    "execution": {
     "iopub.execute_input": "2021-06-07T12:04:39.113860Z",
     "iopub.status.busy": "2021-06-07T12:04:39.112864Z",
     "iopub.status.idle": "2021-06-07T12:04:41.018039Z",
     "shell.execute_reply": "2021-06-07T12:04:41.014100Z",
     "shell.execute_reply.started": "2021-06-07T12:04:39.113860Z"
    }
   },
   "outputs": [
    {
     "data": {
      "text/plain": [
       "({'title': 'mypydrive_2',\n",
       "  'isfolder': True,\n",
       "  'children': [{'title': 'test_2',\n",
       "    'isfolder': True,\n",
       "    'children': [{'isfolder': False,\n",
       "      'title': 'test_apiattr.py',\n",
       "      'exist': True},\n",
       "     {'title': 'settings', 'isfolder': True, 'children': [], 'exist': False}],\n",
       "    'exist': False}]},\n",
       " {'title': 'root',\n",
       "  'isfolder': True,\n",
       "  'children': [{'title': 'test_2',\n",
       "    'isfolder': True,\n",
       "    'children': [{'title': 'settings',\n",
       "      'isfolder': True,\n",
       "      'children': [],\n",
       "      'exist': False}],\n",
       "    'exist': False}]})"
      ]
     },
     "execution_count": 27,
     "metadata": {},
     "output_type": "execute_result"
    }
   ],
   "source": [
    "def get_all_id_from_tree(tree: dict) -> list:\n",
    "    idlist=[]\n",
    "    try:\n",
    "        idlist.append(tree['id'])\n",
    "    except KeyError:\n",
    "        for entry in tree['children']:\n",
    "            if entry['isfolder']:\n",
    "                idlist += get_all_id_from_tree(entry)\n",
    "            else:\n",
    "                idlist.append(entry['id'])\n",
    "    return idlist\n",
    "\n",
    "def delete_file_list(id_to_delete : list):\n",
    "    for _id in id_to_delete:\n",
    "        file = drive.CreateFile({'id': _id})\n",
    "        file.Trash()\n",
    "\n",
    "def upload_diff(dif: dict):\n",
    "    pass\n",
    "\n",
    "def upload_mirror(local_root: str, verbose=False):\n",
    "    local = d.localListFolder(local_root, verbose=verbose)\n",
    "    remote = d.driveListFolder(d.root_id, decipher=True, verbose=verbose)\n",
    "    to_upload = difference(local, remote)\n",
    "    to_delete = difference(remote, local)\n",
    "#     d.upload_folder_tree(to_upload, verbose=verbose)\n",
    "    \n",
    "    return (to_upload, to_delete)\n",
    "\n",
    "upload_mirror(\"mypydrive_2\")\n",
    "# get_all_id_from_tree(df)"
   ]
  },
  {
   "cell_type": "code",
   "execution_count": 8,
   "metadata": {
    "collapsed": true,
    "jupyter": {
     "outputs_hidden": true
    },
    "tags": []
   },
   "outputs": [
    {
     "ename": "KeyError",
     "evalue": "'isfolder'",
     "output_type": "error",
     "traceback": [
      "\u001b[1;31m---------------------------------------------------------------------------\u001b[0m",
      "\u001b[1;31mKeyError\u001b[0m                                  Traceback (most recent call last)",
      "\u001b[1;32m<ipython-input-8-eb33912529ea>\u001b[0m in \u001b[0;36m<module>\u001b[1;34m\u001b[0m\n\u001b[1;32m----> 1\u001b[1;33m \u001b[1;33m[\u001b[0m\u001b[0mch\u001b[0m\u001b[1;33m[\u001b[0m\u001b[1;34m'title'\u001b[0m\u001b[1;33m]\u001b[0m \u001b[1;32mfor\u001b[0m \u001b[0mch\u001b[0m \u001b[1;32min\u001b[0m \u001b[0mdf\u001b[0m\u001b[1;33m[\u001b[0m\u001b[1;34m'children'\u001b[0m\u001b[1;33m]\u001b[0m \u001b[1;32mif\u001b[0m \u001b[1;33m~\u001b[0m\u001b[0mch\u001b[0m\u001b[1;33m[\u001b[0m\u001b[1;34m'isfolder'\u001b[0m\u001b[1;33m]\u001b[0m\u001b[1;33m]\u001b[0m\u001b[1;33m\u001b[0m\u001b[1;33m\u001b[0m\u001b[0m\n\u001b[0m",
      "\u001b[1;32m<ipython-input-8-eb33912529ea>\u001b[0m in \u001b[0;36m<listcomp>\u001b[1;34m(.0)\u001b[0m\n\u001b[1;32m----> 1\u001b[1;33m \u001b[1;33m[\u001b[0m\u001b[0mch\u001b[0m\u001b[1;33m[\u001b[0m\u001b[1;34m'title'\u001b[0m\u001b[1;33m]\u001b[0m \u001b[1;32mfor\u001b[0m \u001b[0mch\u001b[0m \u001b[1;32min\u001b[0m \u001b[0mdf\u001b[0m\u001b[1;33m[\u001b[0m\u001b[1;34m'children'\u001b[0m\u001b[1;33m]\u001b[0m \u001b[1;32mif\u001b[0m \u001b[1;33m~\u001b[0m\u001b[0mch\u001b[0m\u001b[1;33m[\u001b[0m\u001b[1;34m'isfolder'\u001b[0m\u001b[1;33m]\u001b[0m\u001b[1;33m]\u001b[0m\u001b[1;33m\u001b[0m\u001b[1;33m\u001b[0m\u001b[0m\n\u001b[0m",
      "\u001b[1;31mKeyError\u001b[0m: 'isfolder'"
     ]
    }
   ],
   "source": [
    "[ch['title'] for ch in df['children'] if ~ch['isfolder']]"
   ]
  },
  {
   "cell_type": "code",
   "execution_count": null,
   "metadata": {},
   "outputs": [],
   "source": [
    "r = [ch['title'] for ch in remote['children'] if not ch['isfolder']]\n",
    "r"
   ]
  },
  {
   "cell_type": "code",
   "execution_count": null,
   "metadata": {},
   "outputs": [],
   "source": [
    "l = [ch['title'] for ch in local['children'] if not ch['isfolder']]\n",
    "l"
   ]
  },
  {
   "cell_type": "code",
   "execution_count": null,
   "metadata": {},
   "outputs": [],
   "source": [
    "len(l)"
   ]
  }
 ],
 "metadata": {
  "kernelspec": {
   "display_name": "GDrive",
   "language": "python",
   "name": "gdrive"
  },
  "language_info": {
   "codemirror_mode": {
    "name": "ipython",
    "version": 3
   },
   "file_extension": ".py",
   "mimetype": "text/x-python",
   "name": "python",
   "nbconvert_exporter": "python",
   "pygments_lexer": "ipython3",
   "version": "3.9.5"
  }
 },
 "nbformat": 4,
 "nbformat_minor": 4
}
